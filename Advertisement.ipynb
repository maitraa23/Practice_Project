{
 "cells": [
  {
   "cell_type": "code",
   "execution_count": 1,
   "id": "e3c2edb1",
   "metadata": {},
   "outputs": [],
   "source": [
    "import pandas as pd\n",
    "import numpy as np\n",
    "from sklearn.preprocessing import StandardScaler\n",
    "from sklearn.linear_model import LinearRegression\n",
    "from sklearn.ensemble import RandomForestRegressor\n",
    "from sklearn.ensemble import VotingClassifier\n",
    "from sklearn.ensemble import AdaBoostRegressor\n",
    "from sklearn.ensemble import GradientBoostingRegressor\n",
    "from sklearn.tree import DecisionTreeRegressor\n",
    "from sklearn.svm import SVC\n",
    "from sklearn.model_selection import cross_val_score\n",
    "from sklearn.model_selection import GridSearchCV\n",
    "from sklearn.metrics import r2_score\n",
    "from sklearn.model_selection import train_test_split\n",
    "from statsmodels.stats.outliers_influence import variance_inflation_factor\n",
    "import matplotlib.pyplot as plt\n",
    "import seaborn as sns\n",
    "import warnings\n",
    "warnings.filterwarnings('ignore') # importing neccesary ,libraries"
   ]
  },
  {
   "cell_type": "code",
   "execution_count": 2,
   "id": "74e0862e",
   "metadata": {},
   "outputs": [],
   "source": [
    "Data=pd.read_csv(\"https://raw.githubusercontent.com/dsrscientist/DSData/master/Advertising.csv\") #loading the dataset"
   ]
  },
  {
   "cell_type": "code",
   "execution_count": 3,
   "id": "543a59ec",
   "metadata": {},
   "outputs": [
    {
     "data": {
      "text/html": [
       "<div>\n",
       "<style scoped>\n",
       "    .dataframe tbody tr th:only-of-type {\n",
       "        vertical-align: middle;\n",
       "    }\n",
       "\n",
       "    .dataframe tbody tr th {\n",
       "        vertical-align: top;\n",
       "    }\n",
       "\n",
       "    .dataframe thead th {\n",
       "        text-align: right;\n",
       "    }\n",
       "</style>\n",
       "<table border=\"1\" class=\"dataframe\">\n",
       "  <thead>\n",
       "    <tr style=\"text-align: right;\">\n",
       "      <th></th>\n",
       "      <th>Unnamed: 0</th>\n",
       "      <th>TV</th>\n",
       "      <th>radio</th>\n",
       "      <th>newspaper</th>\n",
       "      <th>sales</th>\n",
       "    </tr>\n",
       "  </thead>\n",
       "  <tbody>\n",
       "    <tr>\n",
       "      <th>0</th>\n",
       "      <td>1</td>\n",
       "      <td>230.1</td>\n",
       "      <td>37.8</td>\n",
       "      <td>69.2</td>\n",
       "      <td>22.1</td>\n",
       "    </tr>\n",
       "    <tr>\n",
       "      <th>1</th>\n",
       "      <td>2</td>\n",
       "      <td>44.5</td>\n",
       "      <td>39.3</td>\n",
       "      <td>45.1</td>\n",
       "      <td>10.4</td>\n",
       "    </tr>\n",
       "    <tr>\n",
       "      <th>2</th>\n",
       "      <td>3</td>\n",
       "      <td>17.2</td>\n",
       "      <td>45.9</td>\n",
       "      <td>69.3</td>\n",
       "      <td>9.3</td>\n",
       "    </tr>\n",
       "    <tr>\n",
       "      <th>3</th>\n",
       "      <td>4</td>\n",
       "      <td>151.5</td>\n",
       "      <td>41.3</td>\n",
       "      <td>58.5</td>\n",
       "      <td>18.5</td>\n",
       "    </tr>\n",
       "    <tr>\n",
       "      <th>4</th>\n",
       "      <td>5</td>\n",
       "      <td>180.8</td>\n",
       "      <td>10.8</td>\n",
       "      <td>58.4</td>\n",
       "      <td>12.9</td>\n",
       "    </tr>\n",
       "  </tbody>\n",
       "</table>\n",
       "</div>"
      ],
      "text/plain": [
       "   Unnamed: 0     TV  radio  newspaper  sales\n",
       "0           1  230.1   37.8       69.2   22.1\n",
       "1           2   44.5   39.3       45.1   10.4\n",
       "2           3   17.2   45.9       69.3    9.3\n",
       "3           4  151.5   41.3       58.5   18.5\n",
       "4           5  180.8   10.8       58.4   12.9"
      ]
     },
     "execution_count": 3,
     "metadata": {},
     "output_type": "execute_result"
    }
   ],
   "source": [
    "Data.head()"
   ]
  },
  {
   "cell_type": "code",
   "execution_count": 4,
   "id": "4a55fbc8",
   "metadata": {},
   "outputs": [
    {
     "data": {
      "text/plain": [
       "(200, 5)"
      ]
     },
     "execution_count": 4,
     "metadata": {},
     "output_type": "execute_result"
    }
   ],
   "source": [
    "Data.shape #checking the row and columns"
   ]
  },
  {
   "cell_type": "code",
   "execution_count": 5,
   "id": "f0f9ca8c",
   "metadata": {},
   "outputs": [
    {
     "data": {
      "text/plain": [
       "Unnamed: 0    0\n",
       "TV            0\n",
       "radio         0\n",
       "newspaper     0\n",
       "sales         0\n",
       "dtype: int64"
      ]
     },
     "execution_count": 5,
     "metadata": {},
     "output_type": "execute_result"
    }
   ],
   "source": [
    "Data.isnull().sum() #checking any null values"
   ]
  },
  {
   "cell_type": "code",
   "execution_count": 6,
   "id": "ed029f1c",
   "metadata": {},
   "outputs": [],
   "source": [
    "# No null values has been observed"
   ]
  },
  {
   "cell_type": "code",
   "execution_count": 7,
   "id": "3428a27a",
   "metadata": {},
   "outputs": [
    {
     "name": "stdout",
     "output_type": "stream",
     "text": [
      "<class 'pandas.core.frame.DataFrame'>\n",
      "RangeIndex: 200 entries, 0 to 199\n",
      "Data columns (total 5 columns):\n",
      " #   Column      Non-Null Count  Dtype  \n",
      "---  ------      --------------  -----  \n",
      " 0   Unnamed: 0  200 non-null    int64  \n",
      " 1   TV          200 non-null    float64\n",
      " 2   radio       200 non-null    float64\n",
      " 3   newspaper   200 non-null    float64\n",
      " 4   sales       200 non-null    float64\n",
      "dtypes: float64(4), int64(1)\n",
      "memory usage: 7.9 KB\n"
     ]
    }
   ],
   "source": [
    "Data.info() #Checking the datatypes"
   ]
  },
  {
   "cell_type": "code",
   "execution_count": 8,
   "id": "38a04990",
   "metadata": {},
   "outputs": [
    {
     "data": {
      "text/html": [
       "<div>\n",
       "<style scoped>\n",
       "    .dataframe tbody tr th:only-of-type {\n",
       "        vertical-align: middle;\n",
       "    }\n",
       "\n",
       "    .dataframe tbody tr th {\n",
       "        vertical-align: top;\n",
       "    }\n",
       "\n",
       "    .dataframe thead th {\n",
       "        text-align: right;\n",
       "    }\n",
       "</style>\n",
       "<table border=\"1\" class=\"dataframe\">\n",
       "  <thead>\n",
       "    <tr style=\"text-align: right;\">\n",
       "      <th></th>\n",
       "      <th>Unnamed: 0</th>\n",
       "      <th>TV</th>\n",
       "      <th>radio</th>\n",
       "      <th>newspaper</th>\n",
       "      <th>sales</th>\n",
       "    </tr>\n",
       "  </thead>\n",
       "  <tbody>\n",
       "    <tr>\n",
       "      <th>count</th>\n",
       "      <td>200.000000</td>\n",
       "      <td>200.000000</td>\n",
       "      <td>200.000000</td>\n",
       "      <td>200.000000</td>\n",
       "      <td>200.000000</td>\n",
       "    </tr>\n",
       "    <tr>\n",
       "      <th>mean</th>\n",
       "      <td>100.500000</td>\n",
       "      <td>147.042500</td>\n",
       "      <td>23.264000</td>\n",
       "      <td>30.554000</td>\n",
       "      <td>14.022500</td>\n",
       "    </tr>\n",
       "    <tr>\n",
       "      <th>std</th>\n",
       "      <td>57.879185</td>\n",
       "      <td>85.854236</td>\n",
       "      <td>14.846809</td>\n",
       "      <td>21.778621</td>\n",
       "      <td>5.217457</td>\n",
       "    </tr>\n",
       "    <tr>\n",
       "      <th>min</th>\n",
       "      <td>1.000000</td>\n",
       "      <td>0.700000</td>\n",
       "      <td>0.000000</td>\n",
       "      <td>0.300000</td>\n",
       "      <td>1.600000</td>\n",
       "    </tr>\n",
       "    <tr>\n",
       "      <th>25%</th>\n",
       "      <td>50.750000</td>\n",
       "      <td>74.375000</td>\n",
       "      <td>9.975000</td>\n",
       "      <td>12.750000</td>\n",
       "      <td>10.375000</td>\n",
       "    </tr>\n",
       "    <tr>\n",
       "      <th>50%</th>\n",
       "      <td>100.500000</td>\n",
       "      <td>149.750000</td>\n",
       "      <td>22.900000</td>\n",
       "      <td>25.750000</td>\n",
       "      <td>12.900000</td>\n",
       "    </tr>\n",
       "    <tr>\n",
       "      <th>75%</th>\n",
       "      <td>150.250000</td>\n",
       "      <td>218.825000</td>\n",
       "      <td>36.525000</td>\n",
       "      <td>45.100000</td>\n",
       "      <td>17.400000</td>\n",
       "    </tr>\n",
       "    <tr>\n",
       "      <th>max</th>\n",
       "      <td>200.000000</td>\n",
       "      <td>296.400000</td>\n",
       "      <td>49.600000</td>\n",
       "      <td>114.000000</td>\n",
       "      <td>27.000000</td>\n",
       "    </tr>\n",
       "  </tbody>\n",
       "</table>\n",
       "</div>"
      ],
      "text/plain": [
       "       Unnamed: 0          TV       radio   newspaper       sales\n",
       "count  200.000000  200.000000  200.000000  200.000000  200.000000\n",
       "mean   100.500000  147.042500   23.264000   30.554000   14.022500\n",
       "std     57.879185   85.854236   14.846809   21.778621    5.217457\n",
       "min      1.000000    0.700000    0.000000    0.300000    1.600000\n",
       "25%     50.750000   74.375000    9.975000   12.750000   10.375000\n",
       "50%    100.500000  149.750000   22.900000   25.750000   12.900000\n",
       "75%    150.250000  218.825000   36.525000   45.100000   17.400000\n",
       "max    200.000000  296.400000   49.600000  114.000000   27.000000"
      ]
     },
     "execution_count": 8,
     "metadata": {},
     "output_type": "execute_result"
    }
   ],
   "source": [
    "Data.describe() #Checking the statistics of the data"
   ]
  },
  {
   "cell_type": "code",
   "execution_count": 9,
   "id": "b1dbed24",
   "metadata": {},
   "outputs": [],
   "source": [
    "#Column unnmaed can be removed as it has no contribution to the data.\n",
    "# There is a huge difference in mean and standard deviation in all the columns, implying that data can be skewed and outliers can be ,present\n",
    "#Radio has zero investment which needs to be looked into and changed if necessary"
   ]
  },
  {
   "cell_type": "code",
   "execution_count": 10,
   "id": "7ded2dad",
   "metadata": {},
   "outputs": [
    {
     "data": {
      "text/html": [
       "<div>\n",
       "<style scoped>\n",
       "    .dataframe tbody tr th:only-of-type {\n",
       "        vertical-align: middle;\n",
       "    }\n",
       "\n",
       "    .dataframe tbody tr th {\n",
       "        vertical-align: top;\n",
       "    }\n",
       "\n",
       "    .dataframe thead th {\n",
       "        text-align: right;\n",
       "    }\n",
       "</style>\n",
       "<table border=\"1\" class=\"dataframe\">\n",
       "  <thead>\n",
       "    <tr style=\"text-align: right;\">\n",
       "      <th></th>\n",
       "      <th>Unnamed: 0</th>\n",
       "      <th>TV</th>\n",
       "      <th>radio</th>\n",
       "      <th>newspaper</th>\n",
       "      <th>sales</th>\n",
       "    </tr>\n",
       "  </thead>\n",
       "  <tbody>\n",
       "    <tr>\n",
       "      <th>127</th>\n",
       "      <td>128</td>\n",
       "      <td>80.2</td>\n",
       "      <td>0.0</td>\n",
       "      <td>9.2</td>\n",
       "      <td>8.8</td>\n",
       "    </tr>\n",
       "  </tbody>\n",
       "</table>\n",
       "</div>"
      ],
      "text/plain": [
       "     Unnamed: 0    TV  radio  newspaper  sales\n",
       "127         128  80.2    0.0        9.2    8.8"
      ]
     },
     "execution_count": 10,
     "metadata": {},
     "output_type": "execute_result"
    }
   ],
   "source": [
    "Data.loc[Data[\"radio\"]==0] #checking the row which has zero investment in radio"
   ]
  },
  {
   "cell_type": "code",
   "execution_count": 11,
   "id": "ba175eff",
   "metadata": {},
   "outputs": [],
   "source": [
    "# Not changing anything as its possible that investment is made in TV and newspaper and not in radio"
   ]
  },
  {
   "cell_type": "code",
   "execution_count": 12,
   "id": "6e8b4004",
   "metadata": {},
   "outputs": [],
   "source": [
    "Data=Data.drop(\"Unnamed: 0\",axis=1) #Dropping Unnamed 0 as it has no contribution to the data."
   ]
  },
  {
   "cell_type": "code",
   "execution_count": 13,
   "id": "77c99b7e",
   "metadata": {},
   "outputs": [
    {
     "data": {
      "text/html": [
       "<div>\n",
       "<style scoped>\n",
       "    .dataframe tbody tr th:only-of-type {\n",
       "        vertical-align: middle;\n",
       "    }\n",
       "\n",
       "    .dataframe tbody tr th {\n",
       "        vertical-align: top;\n",
       "    }\n",
       "\n",
       "    .dataframe thead th {\n",
       "        text-align: right;\n",
       "    }\n",
       "</style>\n",
       "<table border=\"1\" class=\"dataframe\">\n",
       "  <thead>\n",
       "    <tr style=\"text-align: right;\">\n",
       "      <th></th>\n",
       "      <th>TV</th>\n",
       "      <th>radio</th>\n",
       "      <th>newspaper</th>\n",
       "      <th>sales</th>\n",
       "    </tr>\n",
       "  </thead>\n",
       "  <tbody>\n",
       "    <tr>\n",
       "      <th>0</th>\n",
       "      <td>230.1</td>\n",
       "      <td>37.8</td>\n",
       "      <td>69.2</td>\n",
       "      <td>22.1</td>\n",
       "    </tr>\n",
       "    <tr>\n",
       "      <th>1</th>\n",
       "      <td>44.5</td>\n",
       "      <td>39.3</td>\n",
       "      <td>45.1</td>\n",
       "      <td>10.4</td>\n",
       "    </tr>\n",
       "    <tr>\n",
       "      <th>2</th>\n",
       "      <td>17.2</td>\n",
       "      <td>45.9</td>\n",
       "      <td>69.3</td>\n",
       "      <td>9.3</td>\n",
       "    </tr>\n",
       "    <tr>\n",
       "      <th>3</th>\n",
       "      <td>151.5</td>\n",
       "      <td>41.3</td>\n",
       "      <td>58.5</td>\n",
       "      <td>18.5</td>\n",
       "    </tr>\n",
       "    <tr>\n",
       "      <th>4</th>\n",
       "      <td>180.8</td>\n",
       "      <td>10.8</td>\n",
       "      <td>58.4</td>\n",
       "      <td>12.9</td>\n",
       "    </tr>\n",
       "    <tr>\n",
       "      <th>...</th>\n",
       "      <td>...</td>\n",
       "      <td>...</td>\n",
       "      <td>...</td>\n",
       "      <td>...</td>\n",
       "    </tr>\n",
       "    <tr>\n",
       "      <th>195</th>\n",
       "      <td>38.2</td>\n",
       "      <td>3.7</td>\n",
       "      <td>13.8</td>\n",
       "      <td>7.6</td>\n",
       "    </tr>\n",
       "    <tr>\n",
       "      <th>196</th>\n",
       "      <td>94.2</td>\n",
       "      <td>4.9</td>\n",
       "      <td>8.1</td>\n",
       "      <td>9.7</td>\n",
       "    </tr>\n",
       "    <tr>\n",
       "      <th>197</th>\n",
       "      <td>177.0</td>\n",
       "      <td>9.3</td>\n",
       "      <td>6.4</td>\n",
       "      <td>12.8</td>\n",
       "    </tr>\n",
       "    <tr>\n",
       "      <th>198</th>\n",
       "      <td>283.6</td>\n",
       "      <td>42.0</td>\n",
       "      <td>66.2</td>\n",
       "      <td>25.5</td>\n",
       "    </tr>\n",
       "    <tr>\n",
       "      <th>199</th>\n",
       "      <td>232.1</td>\n",
       "      <td>8.6</td>\n",
       "      <td>8.7</td>\n",
       "      <td>13.4</td>\n",
       "    </tr>\n",
       "  </tbody>\n",
       "</table>\n",
       "<p>200 rows × 4 columns</p>\n",
       "</div>"
      ],
      "text/plain": [
       "        TV  radio  newspaper  sales\n",
       "0    230.1   37.8       69.2   22.1\n",
       "1     44.5   39.3       45.1   10.4\n",
       "2     17.2   45.9       69.3    9.3\n",
       "3    151.5   41.3       58.5   18.5\n",
       "4    180.8   10.8       58.4   12.9\n",
       "..     ...    ...        ...    ...\n",
       "195   38.2    3.7       13.8    7.6\n",
       "196   94.2    4.9        8.1    9.7\n",
       "197  177.0    9.3        6.4   12.8\n",
       "198  283.6   42.0       66.2   25.5\n",
       "199  232.1    8.6        8.7   13.4\n",
       "\n",
       "[200 rows x 4 columns]"
      ]
     },
     "execution_count": 13,
     "metadata": {},
     "output_type": "execute_result"
    }
   ],
   "source": [
    "Data"
   ]
  },
  {
   "cell_type": "code",
   "execution_count": 14,
   "id": "a5eaad4b",
   "metadata": {},
   "outputs": [],
   "source": [
    "X= Data.drop(\"sales\",axis=1)\n",
    "Y=Data[\"sales\"] #Dividing the data into feature and target"
   ]
  },
  {
   "cell_type": "code",
   "execution_count": 15,
   "id": "44c01da5",
   "metadata": {},
   "outputs": [
    {
     "data": {
      "image/png": "[encoded data removed]",
      "text/plain": [
       "<Figure size 720x576 with 3 Axes>"
      ]
     },
     "metadata": {
      "needs_background": "light"
     },
     "output_type": "display_data"
    }
   ],
   "source": [
    "X.plot(kind='kde',subplots=True,layout=(1,3),sharex=False,legend=True,fontsize=3,figsize=(10,8))\n",
    "plt.show()"
   ]
  },
  {
   "cell_type": "code",
   "execution_count": 18,
   "id": "76a2cbe3",
   "metadata": {},
   "outputs": [],
   "source": [
    "#TV and radio looks normally distributed, however newspaper shows to be right skewed"
   ]
  },
  {
   "cell_type": "code",
   "execution_count": 19,
   "id": "1f8b68b7",
   "metadata": {},
   "outputs": [
    {
     "data": {
      "text/plain": [
       "newspaper    0.894720\n",
       "radio        0.094175\n",
       "TV          -0.069853\n",
       "dtype: float64"
      ]
     },
     "execution_count": 19,
     "metadata": {},
     "output_type": "execute_result"
    }
   ],
   "source": [
    "X.skew().sort_values(ascending=False)"
   ]
  },
  {
   "cell_type": "code",
   "execution_count": 20,
   "id": "7f46a368",
   "metadata": {},
   "outputs": [],
   "source": [
    "#Newspaper needs to be power tramsformed"
   ]
  },
  {
   "cell_type": "code",
   "execution_count": 21,
   "id": "8d9d065c",
   "metadata": {},
   "outputs": [],
   "source": [
    "from sklearn.preprocessing import power_transform"
   ]
  },
  {
   "cell_type": "code",
   "execution_count": 25,
   "id": "d219a397",
   "metadata": {},
   "outputs": [],
   "source": [
    "New_Newspaper=power_transform(X[[\"newspaper\"]])"
   ]
  },
  {
   "cell_type": "code",
   "execution_count": 28,
   "id": "883c2ed4",
   "metadata": {},
   "outputs": [
    {
     "data": {
      "text/plain": [
       "0   -0.077942\n",
       "dtype: float64"
      ]
     },
     "execution_count": 28,
     "metadata": {},
     "output_type": "execute_result"
    }
   ],
   "source": [
    "pd.DataFrame(New_Newspaper).skew() # transforming the data to reduce skewness"
   ]
  },
  {
   "cell_type": "code",
   "execution_count": 29,
   "id": "c280e9be",
   "metadata": {},
   "outputs": [],
   "source": [
    "X[\"newspaper\"]=pd.DataFrame(New_Newspaper) #Transforming the skewed value of newspaper in the old data "
   ]
  },
  {
   "cell_type": "code",
   "execution_count": 30,
   "id": "cdd8ddf9",
   "metadata": {},
   "outputs": [
    {
     "data": {
      "image/png": "[encoded data removed]",
      "text/plain": [
       "<Figure size 720x576 with 3 Axes>"
      ]
     },
     "metadata": {
      "needs_background": "light"
     },
     "output_type": "display_data"
    }
   ],
   "source": [
    "X.plot(kind='kde',subplots=True,layout=(1,3),sharex=False,legend=True,fontsize=3,figsize=(10,8))\n",
    "plt.show() #visualizing the data after transforming newspaper"
   ]
  },
  {
   "cell_type": "code",
   "execution_count": 32,
   "id": "391ad84f",
   "metadata": {},
   "outputs": [
    {
     "data": {
      "image/png": "[encoded data removed]",
      "text/plain": [
       "<Figure size 432x288 with 1 Axes>"
      ]
     },
     "metadata": {
      "needs_background": "light"
     },
     "output_type": "display_data"
    }
   ],
   "source": [
    "sns.stripplot(X[\"TV\"],Y)\n",
    "plt.show() #Checking the relation of features with label"
   ]
  },
  {
   "cell_type": "code",
   "execution_count": 33,
   "id": "97cada47",
   "metadata": {},
   "outputs": [],
   "source": [
    "#It can be said that there is a positivive relation between TV and sales because as investment in TV increased so did sales increase"
   ]
  },
  {
   "cell_type": "code",
   "execution_count": 34,
   "id": "d0afb15f",
   "metadata": {},
   "outputs": [
    {
     "data": {
      "image/png": "[encoded data removed]",
      "text/plain": [
       "<Figure size 432x288 with 1 Axes>"
      ]
     },
     "metadata": {
      "needs_background": "light"
     },
     "output_type": "display_data"
    }
   ],
   "source": [
    "sns.stripplot(X[\"radio\"],Y)\n",
    "plt.show() #Checking the relation of features with label"
   ]
  },
  {
   "cell_type": "code",
   "execution_count": 38,
   "id": "4953a03b",
   "metadata": {},
   "outputs": [],
   "source": [
    "#It can be said that there is a positivive relation between radio and sales because as investment in radio increased so did sales increase.\n",
    "#However there are few outliers observed and the relation is not as strong as TV and sales"
   ]
  },
  {
   "cell_type": "code",
   "execution_count": 36,
   "id": "5282575c",
   "metadata": {},
   "outputs": [
    {
     "data": {
      "image/png": "[encoded data removed]",
      "text/plain": [
       "<Figure size 432x288 with 1 Axes>"
      ]
     },
     "metadata": {
      "needs_background": "light"
     },
     "output_type": "display_data"
    }
   ],
   "source": [
    "sns.stripplot(X[\"newspaper\"],Y)\n",
    "plt.show() #Checking the relation of features with label"
   ]
  },
  {
   "cell_type": "code",
   "execution_count": 37,
   "id": "0353bc50",
   "metadata": {},
   "outputs": [],
   "source": [
    "#It can be said that there is not much positivive relation between newspaper and sales because data is scattered and there is no fixed pattern.\n"
   ]
  },
  {
   "cell_type": "code",
   "execution_count": 39,
   "id": "3eb77945",
   "metadata": {},
   "outputs": [
    {
     "data": {
      "image/png": "[encoded data removed]",
      "text/plain": [
       "<Figure size 720x864 with 2 Axes>"
      ]
     },
     "metadata": {
      "needs_background": "light"
     },
     "output_type": "display_data"
    }
   ],
   "source": [
    "corr_mat=X.corr()\n",
    "plt.figure(figsize=[10,12])\n",
    "sns.heatmap(corr_mat,annot=True)\n",
    "plt.title(\"Correlation Matrix\")\n",
    "plt.show() #Checking correlation"
   ]
  },
  {
   "cell_type": "code",
   "execution_count": 40,
   "id": "aba49133",
   "metadata": {},
   "outputs": [],
   "source": [
    "#From the heatmap, there is not much co-relation observed between the features variables"
   ]
  },
  {
   "cell_type": "code",
   "execution_count": 41,
   "id": "d4d8ee27",
   "metadata": {},
   "outputs": [
    {
     "data": {
      "text/html": [
       "<div>\n",
       "<style scoped>\n",
       "    .dataframe tbody tr th:only-of-type {\n",
       "        vertical-align: middle;\n",
       "    }\n",
       "\n",
       "    .dataframe tbody tr th {\n",
       "        vertical-align: top;\n",
       "    }\n",
       "\n",
       "    .dataframe thead th {\n",
       "        text-align: right;\n",
       "    }\n",
       "</style>\n",
       "<table border=\"1\" class=\"dataframe\">\n",
       "  <thead>\n",
       "    <tr style=\"text-align: right;\">\n",
       "      <th></th>\n",
       "      <th>feature</th>\n",
       "      <th>VIF</th>\n",
       "    </tr>\n",
       "  </thead>\n",
       "  <tbody>\n",
       "    <tr>\n",
       "      <th>0</th>\n",
       "      <td>TV</td>\n",
       "      <td>2.289921</td>\n",
       "    </tr>\n",
       "    <tr>\n",
       "      <th>1</th>\n",
       "      <td>radio</td>\n",
       "      <td>2.351347</td>\n",
       "    </tr>\n",
       "    <tr>\n",
       "      <th>2</th>\n",
       "      <td>newspaper</td>\n",
       "      <td>1.051119</td>\n",
       "    </tr>\n",
       "  </tbody>\n",
       "</table>\n",
       "</div>"
      ],
      "text/plain": [
       "     feature       VIF\n",
       "0         TV  2.289921\n",
       "1      radio  2.351347\n",
       "2  newspaper  1.051119"
      ]
     },
     "execution_count": 41,
     "metadata": {},
     "output_type": "execute_result"
    }
   ],
   "source": [
    "vif_data = pd.DataFrame()\n",
    "vif_data[\"feature\"] = X.columns\n",
    "vif_data[\"VIF\"] = [variance_inflation_factor(X.values, i)\n",
    "                          for i in range(len(X.columns))]\n",
    "\n",
    "vif_data"
   ]
  },
  {
   "cell_type": "code",
   "execution_count": 42,
   "id": "334875e9",
   "metadata": {},
   "outputs": [],
   "source": [
    "# From the VIF, it can be concluded that there is not much issue of multicollinearity in the features"
   ]
  },
  {
   "cell_type": "code",
   "execution_count": 45,
   "id": "76f1735e",
   "metadata": {},
   "outputs": [
    {
     "data": {
      "image/png": "[encoded data removed]",
      "text/plain": [
       "<Figure size 720x576 with 1 Axes>"
      ]
     },
     "metadata": {
      "needs_background": "light"
     },
     "output_type": "display_data"
    }
   ],
   "source": [
    "X.plot(kind='box',figsize=(10,8),layout=(4,3))\n",
    "plt.show() #checking for oultiers"
   ]
  },
  {
   "cell_type": "code",
   "execution_count": 46,
   "id": "44a09aff",
   "metadata": {},
   "outputs": [],
   "source": [
    "#From the above figure, no outlier can be observed, hence need to check via zscore"
   ]
  },
  {
   "cell_type": "code",
   "execution_count": 47,
   "id": "8cca9978",
   "metadata": {},
   "outputs": [],
   "source": [
    "from scipy.stats import zscore"
   ]
  },
  {
   "cell_type": "code",
   "execution_count": 49,
   "id": "79f6f854",
   "metadata": {},
   "outputs": [
    {
     "data": {
      "text/plain": [
       "TV           False\n",
       "radio        False\n",
       "newspaper    False\n",
       "dtype: bool"
      ]
     },
     "execution_count": 49,
     "metadata": {},
     "output_type": "execute_result"
    }
   ],
   "source": [
    "(np.abs(zscore(X)>3)).all()"
   ]
  },
  {
   "cell_type": "code",
   "execution_count": 50,
   "id": "cb24dca4",
   "metadata": {},
   "outputs": [],
   "source": [
    "#Therefore it can be concluded that there is no outliers present in the data"
   ]
  },
  {
   "cell_type": "code",
   "execution_count": 51,
   "id": "03934fa7",
   "metadata": {},
   "outputs": [],
   "source": [
    "Scalar=StandardScaler() #scaling the data"
   ]
  },
  {
   "cell_type": "code",
   "execution_count": 52,
   "id": "e47ad3cf",
   "metadata": {},
   "outputs": [
    {
     "data": {
      "text/plain": [
       "array([[ 9.69852266e-01,  9.81522472e-01,  1.51433531e+00],\n",
       "       [-1.19737623e+00,  1.08280781e+00,  7.87682518e-01],\n",
       "       [-1.51615499e+00,  1.52846331e+00,  1.51699753e+00],\n",
       "       [ 5.20496822e-02,  1.21785493e+00,  1.21465643e+00],\n",
       "       [ 3.94182198e-01, -8.41613655e-01,  1.21170398e+00],\n",
       "       [-1.61540845e+00,  1.73103399e+00,  1.66502354e+00],\n",
       "       [-1.04557682e+00,  6.43904671e-01, -1.07753498e-01],\n",
       "       [-3.13436589e-01, -2.47406325e-01, -8.44093412e-01],\n",
       "       [-1.61657614e+00, -1.42906863e+00, -2.13259669e+00],\n",
       "       [ 6.16042873e-01, -1.39530685e+00, -2.29003949e-01],\n",
       "       [-9.45155670e-01, -1.17923146e+00, -7.22615630e-02],\n",
       "       [ 7.90028350e-01,  4.96973404e-02, -1.60261898e+00],\n",
       "       [-1.43908760e+00,  7.99208859e-01,  1.42512925e+00],\n",
       "       [-5.78501712e-01, -1.05768905e+00, -1.22982506e+00],\n",
       "       [ 6.66253447e-01,  6.50657027e-01,  8.18605793e-01],\n",
       "       [ 5.64664612e-01,  1.65000572e+00,  1.04432344e+00],\n",
       "       [-9.25304978e-01,  9.00494200e-01,  2.52943514e+00],\n",
       "       [ 1.56887609e+00,  1.10306488e+00,  1.13383286e+00],\n",
       "       [-9.08957349e-01, -1.86635121e-01, -3.93560155e-01],\n",
       "       [ 3.00679600e-03,  4.29449843e-02, -3.46715444e-01],\n",
       "       [ 8.33232798e-01,  2.99534513e-01,  1.05996548e+00],\n",
       "       [ 1.05509347e+00, -1.22649795e+00, -1.07753498e-01],\n",
       "       [-1.56286250e+00, -4.97243498e-01,  9.38757391e-01],\n",
       "       [ 9.48833887e-01, -4.29719938e-01,  2.58931103e-02],\n",
       "       [-9.89527805e-01, -7.20071247e-01, -3.93560155e-01],\n",
       "       [ 1.35285385e+00, -1.33453565e+00, -3.23725895e-01],\n",
       "       [-4.83714657e-02,  4.07572210e-01, -7.68672812e-01],\n",
       "       [ 1.08662104e+00, -4.43224650e-01, -1.38678899e-01],\n",
       "       [ 1.18820988e+00,  2.59020377e-01, -1.38678899e-01],\n",
       "       [-8.92609721e-01, -4.90491142e-01,  6.34520181e-01],\n",
       "       [ 1.70316018e+00,  3.40048650e-01,  7.21148606e-01],\n",
       "       [-3.98677796e-01, -3.95958157e-01,  5.52358766e-01],\n",
       "       [-5.82004775e-01, -1.46958277e+00,  2.00719361e-01],\n",
       "       [ 1.38438142e+00, -2.20396901e-01, -2.32472495e+00],\n",
       "       [-5.99520091e-01, -1.47633512e+00, -1.20981332e+00],\n",
       "       [ 1.67747105e+00, -1.29402151e+00, -1.10471076e+00],\n",
       "       [ 1.39956136e+00,  1.38666383e+00, -1.47330873e+00],\n",
       "       [-8.44734522e-01,  1.76479577e+00,  8.08339144e-01],\n",
       "       [-1.21372386e+00,  2.32010953e-01,  4.15598401e-01],\n",
       "       [ 9.45330823e-01,  9.74770116e-01,  2.87423214e-01],\n",
       "       [ 6.47570443e-01, -6.50927121e-02,  2.70348543e-01],\n",
       "       [ 3.49810063e-01,  6.84418807e-01,  5.56153916e-01],\n",
       "       [ 1.71133400e+00,  2.99534513e-01, -1.95904851e+00],\n",
       "       [ 6.98948705e-01, -1.00367020e+00,  3.54591841e-02],\n",
       "       [-1.42390765e+00,  1.64487393e-01,  7.24694111e-01],\n",
       "       [ 3.27623995e-01, -5.15880000e-02,  2.66059606e-01],\n",
       "       [-6.69581357e-01, -9.02384859e-01,  4.39609343e-01],\n",
       "       [ 1.08428567e+00,  1.23135965e+00, -3.81737803e-01],\n",
       "       [ 9.35989321e-01, -5.03995854e-01,  9.48527550e-01],\n",
       "       [-9.35814168e-01, -7.80842451e-01,  4.83005084e-01],\n",
       "       [ 6.16042873e-01, -1.36154507e+00,  3.95399604e-01],\n",
       "       [-5.44638766e-01, -9.22641928e-01, -1.65883577e+00],\n",
       "       [ 8.09879042e-01,  1.24486436e+00,  5.90046655e-01],\n",
       "       [ 4.15200577e-01,  1.54872038e+00,  1.22055211e+00],\n",
       "       [ 1.35051848e+00,  3.73810430e-01, -5.41769847e-01],\n",
       "       [ 6.05533683e-01,  1.76479577e+00,  1.25857888e+00],\n",
       "       [-1.63175608e+00,  3.26543937e-01,  6.56460459e-01],\n",
       "       [-1.26606546e-01, -2.74415749e-01, -4.97263421e-01],\n",
       "       [ 7.44488528e-01,  1.77830048e+00,  5.17931907e-01],\n",
       "       [ 7.43320840e-01,  4.21076922e-01, -1.03293213e+00],\n",
       "       [-1.09228433e+00, -1.43582099e+00, -2.18159752e-01],\n",
       "       [ 1.33417085e+00,  1.31238792e+00,  1.10022212e+00],\n",
       "       [ 1.07727954e+00, -5.24252922e-01,  7.79792875e-02],\n",
       "       [-5.17781948e-01,  4.27829278e-01, -1.11394312e+00],\n",
       "       [-1.86158622e-01,  1.31914027e+00,  1.51547059e-01],\n",
       "       [-9.11292725e-01, -9.42898996e-01, -2.15715720e+00],\n",
       "       [-1.34917564e+00,  9.02114765e-02, -1.88378271e+00],\n",
       "       [-9.04082253e-02, -5.91776482e-01, -9.56199424e-01],\n",
       "       [ 1.05509347e+00,  2.86029801e-01, -8.91141598e-01],\n",
       "       [ 8.14549794e-01,  1.39341619e+00,  7.32966144e-02],\n",
       "       [ 6.07869059e-01,  4.95352838e-01,  5.56153916e-01],\n",
       "       [-4.34876116e-01, -6.05281194e-01,  2.74629332e-01],\n",
       "       [-1.40405696e+00,  6.57409383e-01, -3.35185568e-01],\n",
       "       [-2.06009314e-01, -1.18598381e+00,  2.57457125e-01],\n",
       "       [ 7.74848409e-01,  9.02114765e-02, -7.32248660e-01],\n",
       "       [-1.51965805e+00,  1.37991148e+00,  2.01064695e+00],\n",
       "       [-1.39588315e+00, -1.46283041e+00, -2.56382112e-01],\n",
       "       [-3.09933525e-01,  3.53553362e-01, -6.54842972e-01],\n",
       "       [-1.65394214e+00,  4.48086346e-01, -1.02420602e+00],\n",
       "       [-3.62479475e-01, -1.05093669e+00, -1.28317501e-01],\n",
       "       [-8.24883830e-01,  2.32010953e-01, -1.70089405e-01],\n",
       "       [ 1.08311798e+00, -1.29402151e+00,  4.86911126e-01],\n",
       "       [-8.37728396e-01, -2.00139833e-01,  3.08587095e-01],\n",
       "       [-9.18298852e-01,  1.43393033e+00,  4.35624508e-01],\n",
       "       [ 7.76016097e-01,  1.33264499e+00,  3.62712431e-01],\n",
       "       [ 5.38975481e-01, -3.28434597e-01,  1.41963599e+00],\n",
       "       [-8.26051518e-01,  2.86029801e-01, -5.35342694e-01],\n",
       "       [-4.24366926e-01,  1.17058844e+00,  1.35009138e+00],\n",
       "       [-6.85928986e-01,  1.50982681e-01,  1.62418784e+00],\n",
       "       [-4.34876116e-01,  1.65675807e+00,  9.96850541e-01],\n",
       "       [-1.48792614e-01, -1.24000266e+00, -1.03293213e+00],\n",
       "       [-1.38303858e+00, -1.46958277e+00,  3.29556055e-01],\n",
       "       [ 8.25058983e-01,  6.91171163e-01,  1.22937273e+00],\n",
       "       [ 1.21273132e+00,  8.93741844e-01,  1.59579653e+00],\n",
       "       [-4.62900623e-01, -6.25538262e-01, -8.99123777e-01],\n",
       "       [ 1.89836839e-01,  5.62876398e-01,  1.04432344e+00],\n",
       "       [ 5.90353742e-01, -1.33453565e+00, -1.36793510e+00],\n",
       "       [ 4.42057396e-01, -1.52873340e-01, -1.85982894e-01],\n",
       "       [ 1.66579418e+00,  1.28537849e+00,  9.90457455e-01],\n",
       "       [-1.38283424e-01,  1.24486436e+00,  8.15188102e-01],\n",
       "       [ 8.79940308e-01, -1.28051680e+00,  9.45274806e-01],\n",
       "       [ 1.74402926e+00,  8.80237132e-01,  2.26282480e+00],\n",
       "       [ 1.55486384e+00, -8.88880147e-01, -2.18159752e-01],\n",
       "       [ 4.77088029e-01, -4.09462869e-01, -4.17434728e-01],\n",
       "       [ 1.06443498e+00,  7.45190011e-01, -1.43715760e+00],\n",
       "       [-1.06755854e-01,  1.56222509e+00,  1.22937273e+00],\n",
       "       [-1.42507534e+00, -8.28108943e-01,  1.87417464e-01],\n",
       "       [-6.61407543e-01, -1.55061104e+00, -1.23156783e-01],\n",
       "       [-1.56403019e+00, -1.54385868e+00, -3.06944277e-03],\n",
       "       [ 1.26527727e+00,  2.45515665e-01, -1.41364623e+00],\n",
       "       [ 9.19641692e-01, -1.01717491e+00,  1.15501188e+00],\n",
       "       [ 1.10530405e+00,  9.95027184e-01, -1.23156783e-01],\n",
       "       [ 3.34630122e-01, -5.31005278e-01, -1.84832983e+00],\n",
       "       [ 7.30476274e-01, -1.79882765e-01, -9.15213781e-01],\n",
       "       [-8.03865450e-01,  1.58923451e+00,  3.91338778e-01],\n",
       "       [-8.40063771e-01,  7.92456503e-01,  1.03804144e+00],\n",
       "       [-9.15759131e-02, -6.05281194e-01, -3.06944277e-03],\n",
       "       [-8.24883830e-01, -1.51684926e+00, -6.14079398e-01],\n",
       "       [-2.49213762e-01,  9.20751268e-01,  1.76974284e+00],\n",
       "       [-1.49046586e+00, -4.90491142e-01, -1.70089405e-01],\n",
       "       [-6.70544700e-02,  2.38763309e-01,  8.25427675e-01],\n",
       "       [-1.49747198e+00, -1.05606848e-01,  9.64732133e-01],\n",
       "       [ 8.98623313e-01, -1.40881156e+00, -5.61193935e-01],\n",
       "       [-2.79573643e-01,  7.65447079e-01, -7.83474818e-01],\n",
       "       [ 9.62846140e-01,  6.10142891e-01,  1.64467302e+00],\n",
       "       [-6.98773552e-01, -7.74090095e-01,  1.14618924e-02],\n",
       "       [-1.62591764e+00,  1.05579839e+00,  9.71186601e-01],\n",
       "       [-7.80511695e-01, -1.57086811e+00, -1.04171092e+00],\n",
       "       [ 8.55418865e-01,  1.73778635e+00, -1.71817136e+00],\n",
       "       [-1.02105537e+00, -7.60585383e-01,  7.17598125e-01],\n",
       "       [-1.70882347e+00,  1.10306488e+00, -1.08642518e+00],\n",
       "       [ 1.37971067e+00, -1.37504978e+00,  7.14042650e-01],\n",
       "       [-1.61891151e+00,  2.65772733e-01, -1.90202575e+00],\n",
       "       [ 8.49580427e-01,  6.91171163e-01,  7.87682518e-01],\n",
       "       [-1.28612050e+00,  1.03554132e+00,  1.41688552e+00],\n",
       "       [-1.15300409e+00,  1.60273923e+00, -1.10471076e+00],\n",
       "       [-1.41806922e+00,  1.06255074e+00, -1.03293213e+00],\n",
       "       [ 1.47896413e+00,  3.80562786e-01,  1.24984840e+00],\n",
       "       [-1.21489154e+00,  1.77992105e-01, -2.67442843e-01],\n",
       "       [ 4.42057396e-01,  1.39341619e+00, -1.97889407e+00],\n",
       "       [-8.59914463e-01, -4.22967582e-01, -7.46720688e-01],\n",
       "       [ 5.44813920e-01,  8.19465927e-01,  1.68019945e+00],\n",
       "       [ 8.57754241e-01,  6.70914095e-01,  5.25624866e-01],\n",
       "       [-4.95595880e-01, -1.18598381e+00,  3.87270854e-01],\n",
       "       [-5.93681653e-01, -5.71519414e-01,  5.63726474e-01],\n",
       "       [-7.87313476e-02, -1.44257334e+00, -1.05942991e+00],\n",
       "       [ 1.08662104e+00, -1.07794612e+00, -1.08642518e+00],\n",
       "       [ 1.12281936e+00,  1.73778635e+00,  7.59879425e-01],\n",
       "       [-1.27327593e+00,  1.15033137e+00, -8.21089268e-01],\n",
       "       [-1.19504085e+00,  1.71239749e-01, -2.61904542e-01],\n",
       "       [ 1.56070228e+00, -6.32290618e-01,  4.90810783e-01],\n",
       "       [-3.04095087e-01, -1.00367020e+00,  9.09229669e-01],\n",
       "       [ 5.90353742e-01,  2.43084817e-03, -6.54842972e-01],\n",
       "       [ 2.83251860e-01,  1.10981724e+00,  5.17931907e-01],\n",
       "       [ 4.75920341e-01, -1.46120984e-01, -1.01553176e+00],\n",
       "       [-1.66912209e+00, -7.87594807e-01, -1.39057916e+00],\n",
       "       [-6.20538471e-01,  1.36640677e+00,  9.67961309e-01],\n",
       "       [ 3.21989902e-02, -1.48308748e+00, -6.72413922e-02],\n",
       "       [-1.58037782e+00,  9.20751268e-01,  7.91136815e-01],\n",
       "       [-1.79152496e-01, -3.28434597e-01,  3.95399604e-01],\n",
       "       [ 2.97264113e-01, -3.48691665e-01,  2.31449840e-01],\n",
       "       [-7.16288868e-01,  8.46475352e-01,  9.28951258e-01],\n",
       "       [ 4.82926468e-01, -3.48691665e-01, -3.06944277e-03],\n",
       "       [ 1.92172214e-01,  9.13998912e-01, -1.20981332e+00],\n",
       "       [-3.48467222e-01, -5.78271770e-01, -1.42534498e+00],\n",
       "       [ 1.02123053e+00, -1.34128800e+00,  1.90420913e+00],\n",
       "       [-1.50798117e+00,  9.68017760e-01, -2.07375411e-01],\n",
       "       [ 6.97781017e-01, -1.21974559e+00, -3.29447026e-01],\n",
       "       [ 7.98202165e-01,  2.26879163e-02,  1.18797267e+00],\n",
       "       [ 1.60273904e+00, -8.55118367e-01, -1.31304986e+00],\n",
       "       [-1.13315340e+00, -7.87594807e-01, -3.87639535e-01],\n",
       "       [ 2.03849092e-01, -1.59625696e-01,  8.65987393e-01],\n",
       "       [-1.48813048e+00, -2.13644545e-01, -4.72322408e-01],\n",
       "       [ 2.49388915e-01, -1.09145083e+00, -7.54005137e-01],\n",
       "       [ 8.79940308e-01, -1.34128800e+00, -7.32248660e-01],\n",
       "       [ 1.51633014e+00,  1.73103399e+00,  6.70980580e-01],\n",
       "       [ 1.18353913e+00,  4.68343414e-01, -2.78567541e-01],\n",
       "       [ 2.70407294e-01, -1.04418434e+00,  4.19617314e-01],\n",
       "       [ 1.51399477e+00, -1.41556392e+00, -9.75494949e-02],\n",
       "       [ 2.16693657e-01, -8.95632503e-01, -4.35546989e-01],\n",
       "       [ 1.11601758e-01, -1.39530685e+00, -1.12323656e+00],\n",
       "       [ 8.34400486e-01, -1.20624088e+00,  8.26517146e-02],\n",
       "       [-1.06075676e+00, -1.18598381e+00,  1.87417464e-01],\n",
       "       [ 1.64127273e+00,  1.33264499e+00,  1.58280405e+00],\n",
       "       [ 1.24659427e+00, -1.32616272e-01,  2.00719361e-01],\n",
       "       [ 6.76762637e-01,  1.47444446e+00, -3.18022039e-01],\n",
       "       [-8.80728498e-02, -1.42906863e+00,  4.49820703e-02],\n",
       "       [ 5.14454038e-01,  3.67058074e-01, -3.99499822e-01],\n",
       "       [ 1.62258973e+00, -6.32290618e-01, -1.64450612e+00],\n",
       "       [-1.49863967e+00, -7.53833027e-01, -1.12874870e-01],\n",
       "       [-1.25576062e+00,  1.20435022e+00, -1.37920552e+00],\n",
       "       [-8.35393020e-01, -8.41613655e-01, -1.35676548e+00],\n",
       "       [-1.51615499e+00, -1.29402151e+00,  2.70348543e-01],\n",
       "       [ 2.30705910e-01,  1.26512143e+00, -1.65883577e+00],\n",
       "       [ 3.10313024e-02,  8.32970639e-01, -1.35676548e+00],\n",
       "       [-1.27094056e+00, -1.32103093e+00, -6.82575813e-01],\n",
       "       [-6.17035408e-01, -1.24000266e+00, -1.14201102e+00],\n",
       "       [ 3.49810063e-01, -9.42898996e-01, -1.31304986e+00],\n",
       "       [ 1.59456522e+00,  1.26512143e+00,  1.43335009e+00],\n",
       "       [ 9.93206022e-01, -9.90165488e-01, -1.08642518e+00]])"
      ]
     },
     "execution_count": 52,
     "metadata": {},
     "output_type": "execute_result"
    }
   ],
   "source": [
    "X_Scaled=Scalar.fit_transform(X)\n",
    "#scaling the features"
   ]
  },
  {
   "cell_type": "markdown",
   "id": "bea29dbb",
   "metadata": {},
   "source": [
    "# Linear Regression"
   ]
  },
  {
   "cell_type": "code",
   "execution_count": 53,
   "id": "78256b97",
   "metadata": {},
   "outputs": [],
   "source": [
    "LR=LinearRegression()"
   ]
  },
  {
   "cell_type": "code",
   "execution_count": 55,
   "id": "a1753740",
   "metadata": {},
   "outputs": [
    {
     "name": "stdout",
     "output_type": "stream",
     "text": [
      "At random state 0 the testing accurancy is:- 85.98346413778896\n",
      "/n\n",
      "At random state 1 the testing accurancy is:- 89.1727065060083\n",
      "/n\n",
      "At random state 2 the testing accurancy is:- 75.42786382612512\n",
      "/n\n",
      "At random state 3 the testing accurancy is:- 91.21533303197894\n",
      "/n\n",
      "At random state 4 the testing accurancy is:- 90.82065732852736\n",
      "/n\n",
      "At random state 5 the testing accurancy is:- 89.85960457601486\n",
      "/n\n",
      "At random state 6 the testing accurancy is:- 92.0644134210565\n",
      "/n\n",
      "At random state 7 the testing accurancy is:- 90.95254030305456\n",
      "/n\n",
      "At random state 8 the testing accurancy is:- 84.7137903735244\n",
      "/n\n",
      "At random state 9 the testing accurancy is:- 92.59120231302992\n",
      "/n\n",
      "At random state 10 the testing accurancy is:- 83.48718910829902\n",
      "/n\n",
      "At random state 11 the testing accurancy is:- 84.65509186774685\n",
      "/n\n",
      "At random state 12 the testing accurancy is:- 91.37377279122315\n",
      "/n\n",
      "At random state 13 the testing accurancy is:- 93.1071239436271\n",
      "/n\n",
      "At random state 14 the testing accurancy is:- 85.49330952152326\n",
      "/n\n",
      "At random state 15 the testing accurancy is:- 90.60556867415966\n",
      "/n\n",
      "At random state 16 the testing accurancy is:- 91.89086318444686\n",
      "/n\n",
      "At random state 17 the testing accurancy is:- 82.645536335635\n",
      "/n\n",
      "At random state 18 the testing accurancy is:- 86.99148571067933\n",
      "/n\n",
      "At random state 19 the testing accurancy is:- 90.37538397222585\n",
      "/n\n",
      "At random state 20 the testing accurancy is:- 90.25685864923841\n",
      "/n\n",
      "At random state 21 the testing accurancy is:- 92.21816011833256\n",
      "/n\n",
      "At random state 22 the testing accurancy is:- 91.76926809921926\n",
      "/n\n",
      "At random state 23 the testing accurancy is:- 91.01814268144582\n",
      "/n\n",
      "At random state 24 the testing accurancy is:- 90.63621821158344\n",
      "/n\n",
      "At random state 25 the testing accurancy is:- 87.54959212182895\n",
      "/n\n",
      "At random state 26 the testing accurancy is:- 87.52968581520302\n",
      "/n\n",
      "At random state 27 the testing accurancy is:- 90.55363836308204\n",
      "/n\n",
      "At random state 28 the testing accurancy is:- 88.21330379619941\n",
      "/n\n",
      "At random state 29 the testing accurancy is:- 91.06051793413121\n",
      "/n\n",
      "At random state 30 the testing accurancy is:- 90.44338422490975\n",
      "/n\n",
      "At random state 31 the testing accurancy is:- 92.69728419739171\n",
      "/n\n",
      "At random state 32 the testing accurancy is:- 77.71616556755959\n",
      "/n\n",
      "At random state 33 the testing accurancy is:- 89.29207875874884\n",
      "/n\n",
      "At random state 34 the testing accurancy is:- 89.25538849844664\n",
      "/n\n",
      "At random state 35 the testing accurancy is:- 79.00900741228993\n",
      "/n\n",
      "At random state 36 the testing accurancy is:- 92.56866911842684\n",
      "/n\n",
      "At random state 37 the testing accurancy is:- 88.39383496080309\n",
      "/n\n",
      "At random state 38 the testing accurancy is:- 89.29482088198166\n",
      "/n\n",
      "At random state 39 the testing accurancy is:- 87.91475920344612\n",
      "/n\n",
      "At random state 40 the testing accurancy is:- 79.73499195494557\n",
      "/n\n",
      "At random state 41 the testing accurancy is:- 88.24269293543144\n",
      "/n\n",
      "At random state 42 the testing accurancy is:- 89.95008153312449\n",
      "/n\n",
      "At random state 43 the testing accurancy is:- 92.82272381010064\n",
      "/n\n",
      "At random state 44 the testing accurancy is:- 83.12099457061892\n",
      "/n\n",
      "At random state 45 the testing accurancy is:- 89.53068507616831\n",
      "/n\n",
      "At random state 46 the testing accurancy is:- 85.03552046895506\n",
      "/n\n",
      "At random state 47 the testing accurancy is:- 88.60571552427781\n",
      "/n\n",
      "At random state 48 the testing accurancy is:- 91.96421998012849\n",
      "/n\n",
      "At random state 49 the testing accurancy is:- 82.44814004194447\n",
      "/n\n",
      "At random state 50 the testing accurancy is:- 84.68973007221635\n",
      "/n\n",
      "At random state 51 the testing accurancy is:- 90.62108467573266\n",
      "/n\n",
      "At random state 52 the testing accurancy is:- 88.12548720405749\n",
      "/n\n",
      "At random state 53 the testing accurancy is:- 92.56139184254336\n",
      "/n\n",
      "At random state 54 the testing accurancy is:- 91.81456773233816\n",
      "/n\n",
      "At random state 55 the testing accurancy is:- 90.310812290397\n",
      "/n\n",
      "At random state 56 the testing accurancy is:- 88.92172148852259\n",
      "/n\n",
      "At random state 57 the testing accurancy is:- 94.1083275206275\n",
      "/n\n",
      "At random state 58 the testing accurancy is:- 84.06149630617654\n",
      "/n\n",
      "At random state 59 the testing accurancy is:- 92.51095365732405\n",
      "/n\n",
      "At random state 60 the testing accurancy is:- 91.0538965991316\n",
      "/n\n",
      "At random state 61 the testing accurancy is:- 87.94496365835799\n",
      "/n\n",
      "At random state 62 the testing accurancy is:- 84.18203153005062\n",
      "/n\n",
      "At random state 63 the testing accurancy is:- 90.27679997237207\n",
      "/n\n",
      "At random state 64 the testing accurancy is:- 88.15305998520988\n",
      "/n\n",
      "At random state 65 the testing accurancy is:- 89.4028755504355\n",
      "/n\n",
      "At random state 66 the testing accurancy is:- 88.9876131890299\n",
      "/n\n",
      "At random state 67 the testing accurancy is:- 88.15369195846145\n",
      "/n\n",
      "At random state 68 the testing accurancy is:- 87.00719108385702\n",
      "/n\n",
      "At random state 69 the testing accurancy is:- 92.2552479489521\n",
      "/n\n",
      "At random state 70 the testing accurancy is:- 92.62137173134157\n",
      "/n\n",
      "At random state 71 the testing accurancy is:- 82.41346335047766\n",
      "/n\n",
      "At random state 72 the testing accurancy is:- 90.7554170545688\n",
      "/n\n",
      "At random state 73 the testing accurancy is:- 84.0987151120252\n",
      "/n\n",
      "At random state 74 the testing accurancy is:- 88.07906282363338\n",
      "/n\n",
      "At random state 75 the testing accurancy is:- 90.76978601084839\n",
      "/n\n",
      "At random state 76 the testing accurancy is:- 74.98455682678093\n",
      "/n\n",
      "At random state 77 the testing accurancy is:- 93.74702598875808\n",
      "/n\n",
      "At random state 78 the testing accurancy is:- 90.24606707517593\n",
      "/n\n",
      "At random state 79 the testing accurancy is:- 90.42639210828139\n",
      "/n\n",
      "At random state 80 the testing accurancy is:- 80.6908791234979\n",
      "/n\n",
      "At random state 81 the testing accurancy is:- 86.188278740109\n",
      "/n\n",
      "At random state 82 the testing accurancy is:- 80.25598071230327\n",
      "/n\n",
      "At random state 83 the testing accurancy is:- 93.77580791927109\n",
      "/n\n",
      "At random state 84 the testing accurancy is:- 90.18396143560324\n",
      "/n\n",
      "At random state 85 the testing accurancy is:- 84.46359207832727\n",
      "/n\n",
      "At random state 86 the testing accurancy is:- 91.05893800141166\n",
      "/n\n",
      "At random state 87 the testing accurancy is:- 76.41932662761886\n",
      "/n\n",
      "At random state 88 the testing accurancy is:- 83.98572463150218\n",
      "/n\n",
      "At random state 89 the testing accurancy is:- 87.54159369300156\n",
      "/n\n",
      "At random state 90 the testing accurancy is:- 85.12715339169155\n",
      "/n\n",
      "At random state 91 the testing accurancy is:- 90.43147682010712\n",
      "/n\n",
      "At random state 92 the testing accurancy is:- 95.13210747921346\n",
      "/n\n",
      "At random state 93 the testing accurancy is:- 91.23156762224096\n",
      "/n\n",
      "At random state 94 the testing accurancy is:- 85.69719193164681\n",
      "/n\n",
      "At random state 95 the testing accurancy is:- 89.40677241769322\n",
      "/n\n",
      "At random state 96 the testing accurancy is:- 85.98352595311908\n",
      "/n\n",
      "At random state 97 the testing accurancy is:- 91.06233601843488\n",
      "/n\n",
      "At random state 98 the testing accurancy is:- 94.00192678749649\n",
      "/n\n",
      "At random state 99 the testing accurancy is:- 91.86770692578195\n",
      "/n\n"
     ]
    }
   ],
   "source": [
    "for i in range (0,100):\n",
    "    X_train,X_test,y_train,y_test=train_test_split(X_Scaled,Y,test_size=0.20,random_state=i)\n",
    "    LR.fit(X_train,y_train)\n",
    "    pred_test=LR.predict(X_test)\n",
    "    print('At random state',i,'the testing accurancy is:-',r2_score(y_test,pred_test)*100)\n",
    "    print(\"/n\")"
   ]
  },
  {
   "cell_type": "code",
   "execution_count": 56,
   "id": "b2396912",
   "metadata": {},
   "outputs": [],
   "source": [
    "#We can see that at random state 98, the r2 score is highest with 94 percent"
   ]
  },
  {
   "cell_type": "code",
   "execution_count": 59,
   "id": "1c36f598",
   "metadata": {},
   "outputs": [],
   "source": [
    "X_train,X_test,y_train,y_test=train_test_split(X_Scaled,Y,test_size=0.20,random_state=98)\n",
    "LR.fit(X_train,y_train)\n",
    "pred_test=LR.predict(X_test)"
   ]
  },
  {
   "cell_type": "code",
   "execution_count": 63,
   "id": "11aa93a5",
   "metadata": {},
   "outputs": [
    {
     "data": {
      "text/plain": [
       "94.00192678749649"
      ]
     },
     "execution_count": 63,
     "metadata": {},
     "output_type": "execute_result"
    }
   ],
   "source": [
    "LR_Score= r2_score(y_test,pred_test)*100\n",
    "LR_Score"
   ]
  },
  {
   "cell_type": "markdown",
   "id": "820eddbf",
   "metadata": {},
   "source": [
    "# Random Forest Regressor"
   ]
  },
  {
   "cell_type": "code",
   "execution_count": 61,
   "id": "44539ae4",
   "metadata": {},
   "outputs": [],
   "source": [
    "RF=RandomForestRegressor()"
   ]
  },
  {
   "cell_type": "code",
   "execution_count": 64,
   "id": "bf14da6a",
   "metadata": {},
   "outputs": [
    {
     "name": "stdout",
     "output_type": "stream",
     "text": [
      "At random state 0 the testing accurancy is:- 96.84494860192754\n",
      "/n\n",
      "At random state 1 the testing accurancy is:- 97.73526549436366\n",
      "/n\n",
      "At random state 2 the testing accurancy is:- 97.35749583393755\n",
      "/n\n",
      "At random state 3 the testing accurancy is:- 98.26137454403437\n",
      "/n\n",
      "At random state 4 the testing accurancy is:- 97.59279204983365\n",
      "/n\n",
      "At random state 5 the testing accurancy is:- 98.58009773832053\n",
      "/n\n",
      "At random state 6 the testing accurancy is:- 97.58764660194582\n",
      "/n\n",
      "At random state 7 the testing accurancy is:- 98.20511060472357\n",
      "/n\n",
      "At random state 8 the testing accurancy is:- 96.93735823965831\n",
      "/n\n",
      "At random state 9 the testing accurancy is:- 97.83369852975248\n",
      "/n\n",
      "At random state 10 the testing accurancy is:- 97.862555077715\n",
      "/n\n",
      "At random state 11 the testing accurancy is:- 97.461781139275\n",
      "/n\n",
      "At random state 12 the testing accurancy is:- 98.26350213806549\n",
      "/n\n",
      "At random state 13 the testing accurancy is:- 97.5576434457611\n",
      "/n\n",
      "At random state 14 the testing accurancy is:- 96.00166711597485\n",
      "/n\n",
      "At random state 15 the testing accurancy is:- 97.94356967895476\n",
      "/n\n",
      "At random state 16 the testing accurancy is:- 98.08031224261244\n",
      "/n\n",
      "At random state 17 the testing accurancy is:- 96.98504501125731\n",
      "/n\n",
      "At random state 18 the testing accurancy is:- 95.60507645677137\n",
      "/n\n",
      "At random state 19 the testing accurancy is:- 97.83199527282711\n",
      "/n\n",
      "At random state 20 the testing accurancy is:- 98.08951495692253\n",
      "/n\n",
      "At random state 21 the testing accurancy is:- 98.0515588929734\n",
      "/n\n",
      "At random state 22 the testing accurancy is:- 98.7342702780603\n",
      "/n\n",
      "At random state 23 the testing accurancy is:- 98.38977426882359\n",
      "/n\n",
      "At random state 24 the testing accurancy is:- 97.43852038303359\n",
      "/n\n",
      "At random state 25 the testing accurancy is:- 97.27696936117923\n",
      "/n\n",
      "At random state 26 the testing accurancy is:- 97.5255513699703\n",
      "/n\n",
      "At random state 27 the testing accurancy is:- 98.29741750505909\n",
      "/n\n",
      "At random state 28 the testing accurancy is:- 98.65092066998645\n",
      "/n\n",
      "At random state 29 the testing accurancy is:- 97.68017817387812\n",
      "/n\n",
      "At random state 30 the testing accurancy is:- 98.12233706050495\n",
      "/n\n",
      "At random state 31 the testing accurancy is:- 97.83086167167998\n",
      "/n\n",
      "At random state 32 the testing accurancy is:- 96.41683618025206\n",
      "/n\n",
      "At random state 33 the testing accurancy is:- 98.38492031459394\n",
      "/n\n",
      "At random state 34 the testing accurancy is:- 98.32090980057956\n",
      "/n\n",
      "At random state 35 the testing accurancy is:- 96.5102327423465\n",
      "/n\n",
      "At random state 36 the testing accurancy is:- 98.09712210748857\n",
      "/n\n",
      "At random state 37 the testing accurancy is:- 97.63673693495653\n",
      "/n\n",
      "At random state 38 the testing accurancy is:- 98.22507284111339\n",
      "/n\n",
      "At random state 39 the testing accurancy is:- 97.52186240378158\n",
      "/n\n",
      "At random state 40 the testing accurancy is:- 97.03346284532394\n",
      "/n\n",
      "At random state 41 the testing accurancy is:- 97.47260727681281\n",
      "/n\n",
      "At random state 42 the testing accurancy is:- 98.17117474146934\n",
      "/n\n",
      "At random state 43 the testing accurancy is:- 98.27659606805051\n",
      "/n\n",
      "At random state 44 the testing accurancy is:- 94.85485038501373\n",
      "/n\n",
      "At random state 45 the testing accurancy is:- 97.87042751267485\n",
      "/n\n",
      "At random state 46 the testing accurancy is:- 97.68411894508093\n",
      "/n\n",
      "At random state 47 the testing accurancy is:- 98.74084577311896\n",
      "/n\n",
      "At random state 48 the testing accurancy is:- 98.82092434800607\n",
      "/n\n",
      "At random state 49 the testing accurancy is:- 96.83035429818159\n",
      "/n\n",
      "At random state 50 the testing accurancy is:- 98.13696548817853\n",
      "/n\n",
      "At random state 51 the testing accurancy is:- 98.11176259802211\n",
      "/n\n",
      "At random state 52 the testing accurancy is:- 97.7175741004374\n",
      "/n\n",
      "At random state 53 the testing accurancy is:- 97.84473433781986\n",
      "/n\n",
      "At random state 54 the testing accurancy is:- 98.08575997103725\n",
      "/n\n",
      "At random state 55 the testing accurancy is:- 97.80222833647265\n",
      "/n\n",
      "At random state 56 the testing accurancy is:- 97.96163678541765\n",
      "/n\n",
      "At random state 57 the testing accurancy is:- 98.60172802323474\n",
      "/n\n",
      "At random state 58 the testing accurancy is:- 96.94031222939043\n",
      "/n\n",
      "At random state 59 the testing accurancy is:- 98.65113417098476\n",
      "/n\n",
      "At random state 60 the testing accurancy is:- 97.40112094055453\n",
      "/n\n",
      "At random state 61 the testing accurancy is:- 97.49442976770887\n",
      "/n\n",
      "At random state 62 the testing accurancy is:- 96.14458884311814\n",
      "/n\n",
      "At random state 63 the testing accurancy is:- 97.7505458508607\n",
      "/n\n",
      "At random state 64 the testing accurancy is:- 97.46270702449245\n",
      "/n\n",
      "At random state 65 the testing accurancy is:- 97.48528020722071\n",
      "/n\n",
      "At random state 66 the testing accurancy is:- 96.86191764920841\n",
      "/n\n",
      "At random state 67 the testing accurancy is:- 98.63071620757133\n",
      "/n\n",
      "At random state 68 the testing accurancy is:- 97.49135537015053\n",
      "/n\n",
      "At random state 69 the testing accurancy is:- 98.75582008745748\n",
      "/n\n",
      "At random state 70 the testing accurancy is:- 98.23242870107073\n",
      "/n\n",
      "At random state 71 the testing accurancy is:- 97.92384871784466\n",
      "/n\n",
      "At random state 72 the testing accurancy is:- 98.41263812117215\n",
      "/n\n",
      "At random state 73 the testing accurancy is:- 97.36768641823068\n",
      "/n\n",
      "At random state 74 the testing accurancy is:- 97.66856706782582\n",
      "/n\n",
      "At random state 75 the testing accurancy is:- 98.38649052187172\n",
      "/n\n",
      "At random state 76 the testing accurancy is:- 96.66805055572621\n",
      "/n\n",
      "At random state 77 the testing accurancy is:- 98.49912849792933\n",
      "/n\n",
      "At random state 78 the testing accurancy is:- 96.52580946723747\n",
      "/n\n",
      "At random state 79 the testing accurancy is:- 98.50109976548522\n",
      "/n\n",
      "At random state 80 the testing accurancy is:- 97.59088216929314\n",
      "/n\n",
      "At random state 81 the testing accurancy is:- 98.23643806654567\n",
      "/n\n",
      "At random state 82 the testing accurancy is:- 96.24985729289553\n",
      "/n\n",
      "At random state 83 the testing accurancy is:- 98.25341415892608\n",
      "/n\n",
      "At random state 84 the testing accurancy is:- 98.45824910462329\n",
      "/n\n",
      "At random state 85 the testing accurancy is:- 97.00939689430253\n",
      "/n\n",
      "At random state 86 the testing accurancy is:- 98.20553718355211\n",
      "/n\n",
      "At random state 87 the testing accurancy is:- 96.57026235663638\n",
      "/n\n",
      "At random state 88 the testing accurancy is:- 97.28914181650488\n",
      "/n\n",
      "At random state 89 the testing accurancy is:- 98.43607362275445\n",
      "/n\n",
      "At random state 90 the testing accurancy is:- 95.68132037048213\n",
      "/n\n",
      "At random state 91 the testing accurancy is:- 97.6954887758515\n",
      "/n\n",
      "At random state 92 the testing accurancy is:- 98.26199762475164\n",
      "/n\n",
      "At random state 93 the testing accurancy is:- 97.44556536831355\n",
      "/n\n",
      "At random state 94 the testing accurancy is:- 96.58779928349607\n",
      "/n\n",
      "At random state 95 the testing accurancy is:- 97.10518632640618\n",
      "/n\n",
      "At random state 96 the testing accurancy is:- 97.61910001178187\n",
      "/n\n",
      "At random state 97 the testing accurancy is:- 97.98597995508887\n",
      "/n\n",
      "At random state 98 the testing accurancy is:- 98.16324228652108\n",
      "/n\n",
      "At random state 99 the testing accurancy is:- 98.53026925072461\n",
      "/n\n"
     ]
    }
   ],
   "source": [
    "for i in range (0,100):\n",
    "    X_train,X_test,y_train,y_test=train_test_split(X_Scaled,Y,test_size=0.20,random_state=i)\n",
    "    RF.fit(X_train,y_train)\n",
    "    pred_test=RF.predict(X_test)\n",
    "    print('At random state',i,'the testing accurancy is:-',r2_score(y_test,pred_test)*100)\n",
    "    print(\"/n\")"
   ]
  },
  {
   "cell_type": "code",
   "execution_count": 65,
   "id": "c600327a",
   "metadata": {},
   "outputs": [],
   "source": [
    "#We can see that at random state 48, the r2 score is highest with 98.82 percent"
   ]
  },
  {
   "cell_type": "code",
   "execution_count": 66,
   "id": "6a297125",
   "metadata": {},
   "outputs": [],
   "source": [
    "X_train,X_test,y_train,y_test=train_test_split(X_Scaled,Y,test_size=0.20,random_state=48)\n",
    "RF.fit(X_train,y_train)\n",
    "pred_test=RF.predict(X_test)"
   ]
  },
  {
   "cell_type": "code",
   "execution_count": 67,
   "id": "eb2c2f12",
   "metadata": {},
   "outputs": [
    {
     "data": {
      "text/plain": [
       "98.80441855250449"
      ]
     },
     "execution_count": 67,
     "metadata": {},
     "output_type": "execute_result"
    }
   ],
   "source": [
    "RF_Score= r2_score(y_test,pred_test)*100\n",
    "RF_Score"
   ]
  },
  {
   "cell_type": "markdown",
   "id": "a92ea78b",
   "metadata": {},
   "source": [
    "# Gradient Boosting"
   ]
  },
  {
   "cell_type": "code",
   "execution_count": 68,
   "id": "8dc2d0c5",
   "metadata": {},
   "outputs": [],
   "source": [
    "GB=GradientBoostingRegressor()"
   ]
  },
  {
   "cell_type": "code",
   "execution_count": 69,
   "id": "b4b20ed6",
   "metadata": {},
   "outputs": [
    {
     "name": "stdout",
     "output_type": "stream",
     "text": [
      "At random state 0 the testing accurancy is:- 96.8116951291777\n",
      "/n\n",
      "At random state 1 the testing accurancy is:- 97.59144561308449\n",
      "/n\n",
      "At random state 2 the testing accurancy is:- 97.54731578236363\n",
      "/n\n",
      "At random state 3 the testing accurancy is:- 98.26023668811041\n",
      "/n\n",
      "At random state 4 the testing accurancy is:- 97.94283488276754\n",
      "/n\n",
      "At random state 5 the testing accurancy is:- 98.28329667598615\n",
      "/n\n",
      "At random state 6 the testing accurancy is:- 97.72890111882634\n",
      "/n\n",
      "At random state 7 the testing accurancy is:- 98.38978515401648\n",
      "/n\n",
      "At random state 8 the testing accurancy is:- 96.84088263298305\n",
      "/n\n",
      "At random state 9 the testing accurancy is:- 97.53209901393288\n",
      "/n\n",
      "At random state 10 the testing accurancy is:- 97.50870439459419\n",
      "/n\n",
      "At random state 11 the testing accurancy is:- 97.36271026210184\n",
      "/n\n",
      "At random state 12 the testing accurancy is:- 98.58620110972619\n",
      "/n\n",
      "At random state 13 the testing accurancy is:- 97.97831806412447\n",
      "/n\n",
      "At random state 14 the testing accurancy is:- 96.2002362353812\n",
      "/n\n",
      "At random state 15 the testing accurancy is:- 98.73057922974206\n",
      "/n\n",
      "At random state 16 the testing accurancy is:- 97.9418656055141\n",
      "/n\n",
      "At random state 17 the testing accurancy is:- 96.60691461282319\n",
      "/n\n",
      "At random state 18 the testing accurancy is:- 95.52671424548474\n",
      "/n\n",
      "At random state 19 the testing accurancy is:- 97.26788615606382\n",
      "/n\n",
      "At random state 20 the testing accurancy is:- 98.50579540889396\n",
      "/n\n",
      "At random state 21 the testing accurancy is:- 98.51698523267076\n",
      "/n\n",
      "At random state 22 the testing accurancy is:- 98.46285223652413\n",
      "/n\n",
      "At random state 23 the testing accurancy is:- 98.60760474783238\n",
      "/n\n",
      "At random state 24 the testing accurancy is:- 97.84069042792169\n",
      "/n\n",
      "At random state 25 the testing accurancy is:- 97.37091069001997\n",
      "/n\n",
      "At random state 26 the testing accurancy is:- 97.26306722538845\n",
      "/n\n",
      "At random state 27 the testing accurancy is:- 98.18899275755135\n",
      "/n\n",
      "At random state 28 the testing accurancy is:- 98.10788037025014\n",
      "/n\n",
      "At random state 29 the testing accurancy is:- 98.53388475194392\n",
      "/n\n",
      "At random state 30 the testing accurancy is:- 98.79786722088546\n",
      "/n\n",
      "At random state 31 the testing accurancy is:- 98.55615435354719\n",
      "/n\n",
      "At random state 32 the testing accurancy is:- 96.15011736658516\n",
      "/n\n",
      "At random state 33 the testing accurancy is:- 98.82175681737687\n",
      "/n\n",
      "At random state 34 the testing accurancy is:- 98.38299995533443\n",
      "/n\n",
      "At random state 35 the testing accurancy is:- 96.74857049540297\n",
      "/n\n",
      "At random state 36 the testing accurancy is:- 98.44095373089866\n",
      "/n\n",
      "At random state 37 the testing accurancy is:- 97.95369136369612\n",
      "/n\n",
      "At random state 38 the testing accurancy is:- 98.60993034399267\n",
      "/n\n",
      "At random state 39 the testing accurancy is:- 98.47242040899927\n",
      "/n\n",
      "At random state 40 the testing accurancy is:- 95.80206530984951\n",
      "/n\n",
      "At random state 41 the testing accurancy is:- 96.85943762738395\n",
      "/n\n",
      "At random state 42 the testing accurancy is:- 98.38666746236976\n",
      "/n\n",
      "At random state 43 the testing accurancy is:- 98.81416665541161\n",
      "/n\n",
      "At random state 44 the testing accurancy is:- 95.8688420738826\n",
      "/n\n",
      "At random state 45 the testing accurancy is:- 97.50283021685978\n",
      "/n\n",
      "At random state 46 the testing accurancy is:- 97.91473358732546\n",
      "/n\n",
      "At random state 47 the testing accurancy is:- 98.27320867922995\n",
      "/n\n",
      "At random state 48 the testing accurancy is:- 99.0751716524693\n",
      "/n\n",
      "At random state 49 the testing accurancy is:- 96.95355761072439\n",
      "/n\n",
      "At random state 50 the testing accurancy is:- 98.15805227587134\n",
      "/n\n",
      "At random state 51 the testing accurancy is:- 98.24737877436569\n",
      "/n\n",
      "At random state 52 the testing accurancy is:- 98.09048607064702\n",
      "/n\n",
      "At random state 53 the testing accurancy is:- 97.49750551694315\n",
      "/n\n",
      "At random state 54 the testing accurancy is:- 98.31838241256486\n",
      "/n\n",
      "At random state 55 the testing accurancy is:- 98.40041674943319\n",
      "/n\n",
      "At random state 56 the testing accurancy is:- 97.03412231626784\n",
      "/n\n",
      "At random state 57 the testing accurancy is:- 98.60882925074313\n",
      "/n\n",
      "At random state 58 the testing accurancy is:- 96.74416245002828\n",
      "/n\n",
      "At random state 59 the testing accurancy is:- 98.75617897983018\n",
      "/n\n",
      "At random state 60 the testing accurancy is:- 97.87465486903085\n",
      "/n\n",
      "At random state 61 the testing accurancy is:- 97.94345439461868\n",
      "/n\n",
      "At random state 62 the testing accurancy is:- 95.45728438222334\n",
      "/n\n",
      "At random state 63 the testing accurancy is:- 98.00980798356049\n",
      "/n\n",
      "At random state 64 the testing accurancy is:- 97.39516807738381\n",
      "/n\n",
      "At random state 65 the testing accurancy is:- 96.72475715846537\n",
      "/n\n",
      "At random state 66 the testing accurancy is:- 96.71734085245767\n",
      "/n\n",
      "At random state 67 the testing accurancy is:- 98.5731247616906\n",
      "/n\n",
      "At random state 68 the testing accurancy is:- 98.4672054347834\n",
      "/n\n",
      "At random state 69 the testing accurancy is:- 99.07209483583786\n",
      "/n\n",
      "At random state 70 the testing accurancy is:- 98.32004512850612\n",
      "/n\n",
      "At random state 71 the testing accurancy is:- 97.33973813158005\n",
      "/n\n",
      "At random state 72 the testing accurancy is:- 98.5314037860031\n",
      "/n\n",
      "At random state 73 the testing accurancy is:- 97.13743899265725\n",
      "/n\n",
      "At random state 74 the testing accurancy is:- 97.35080827663933\n",
      "/n\n",
      "At random state 75 the testing accurancy is:- 98.65021641280775\n",
      "/n\n",
      "At random state 76 the testing accurancy is:- 97.3937707128584\n",
      "/n\n",
      "At random state 77 the testing accurancy is:- 98.29035428724066\n",
      "/n\n",
      "At random state 78 the testing accurancy is:- 97.16941059316039\n",
      "/n\n",
      "At random state 79 the testing accurancy is:- 98.95802960900927\n",
      "/n\n",
      "At random state 80 the testing accurancy is:- 96.21828847685994\n",
      "/n\n",
      "At random state 81 the testing accurancy is:- 98.31326064510503\n",
      "/n\n",
      "At random state 82 the testing accurancy is:- 95.27993012726685\n",
      "/n\n",
      "At random state 83 the testing accurancy is:- 98.01969331997869\n",
      "/n\n",
      "At random state 84 the testing accurancy is:- 98.2895705008884\n",
      "/n\n",
      "At random state 85 the testing accurancy is:- 97.01242971974683\n",
      "/n\n",
      "At random state 86 the testing accurancy is:- 98.57279297134671\n",
      "/n\n",
      "At random state 87 the testing accurancy is:- 95.92053346983718\n",
      "/n\n",
      "At random state 88 the testing accurancy is:- 96.48252657690645\n",
      "/n\n",
      "At random state 89 the testing accurancy is:- 97.9373567306722\n",
      "/n\n",
      "At random state 90 the testing accurancy is:- 95.44110346157946\n",
      "/n\n",
      "At random state 91 the testing accurancy is:- 97.6436586174595\n",
      "/n\n",
      "At random state 92 the testing accurancy is:- 98.63275416685927\n",
      "/n\n",
      "At random state 93 the testing accurancy is:- 97.96064939575078\n",
      "/n\n",
      "At random state 94 the testing accurancy is:- 97.08004170851926\n",
      "/n\n",
      "At random state 95 the testing accurancy is:- 98.0281213696372\n",
      "/n\n",
      "At random state 96 the testing accurancy is:- 97.95106705768023\n",
      "/n\n",
      "At random state 97 the testing accurancy is:- 98.56428785789262\n",
      "/n\n",
      "At random state 98 the testing accurancy is:- 98.35804599658118\n",
      "/n\n",
      "At random state 99 the testing accurancy is:- 98.30316963342038\n",
      "/n\n"
     ]
    }
   ],
   "source": [
    "for i in range (0,100):\n",
    "    X_train,X_test,y_train,y_test=train_test_split(X_Scaled,Y,test_size=0.20,random_state=i)\n",
    "    GB.fit(X_train,y_train)\n",
    "    pred_test=GB.predict(X_test)\n",
    "    print('At random state',i,'the testing accurancy is:-',r2_score(y_test,pred_test)*100)\n",
    "    print(\"/n\")"
   ]
  },
  {
   "cell_type": "code",
   "execution_count": 70,
   "id": "e2c300e3",
   "metadata": {},
   "outputs": [],
   "source": [
    "#At random state 69, score for test data is highest at 99%"
   ]
  },
  {
   "cell_type": "code",
   "execution_count": 73,
   "id": "dd3aacf1",
   "metadata": {},
   "outputs": [],
   "source": [
    "X_train,X_test,y_train,y_test=train_test_split(X_Scaled,Y,test_size=0.20,random_state=69)\n",
    "GB.fit(X_train,y_train)\n",
    "pred_test=GB.predict(X_test)"
   ]
  },
  {
   "cell_type": "code",
   "execution_count": 74,
   "id": "916a2054",
   "metadata": {},
   "outputs": [
    {
     "data": {
      "text/plain": [
       "99.07203510641997"
      ]
     },
     "execution_count": 74,
     "metadata": {},
     "output_type": "execute_result"
    }
   ],
   "source": [
    "GB_Score=r2_score(y_test,pred_test)*100\n",
    "GB_Score"
   ]
  },
  {
   "cell_type": "markdown",
   "id": "cdebdbf4",
   "metadata": {},
   "source": [
    "# Decision Tree Regressor"
   ]
  },
  {
   "cell_type": "code",
   "execution_count": 75,
   "id": "e38211d2",
   "metadata": {},
   "outputs": [],
   "source": [
    "DT=DecisionTreeRegressor()"
   ]
  },
  {
   "cell_type": "code",
   "execution_count": 76,
   "id": "ebe1f469",
   "metadata": {},
   "outputs": [
    {
     "name": "stdout",
     "output_type": "stream",
     "text": [
      "At random state 0 the testing accurancy is:- 94.06011108791841\n",
      "/n\n",
      "At random state 1 the testing accurancy is:- 95.97963707038429\n",
      "/n\n",
      "At random state 2 the testing accurancy is:- 96.15103940440699\n",
      "/n\n",
      "At random state 3 the testing accurancy is:- 95.6634351624299\n",
      "/n\n",
      "At random state 4 the testing accurancy is:- 96.48271989250236\n",
      "/n\n",
      "At random state 5 the testing accurancy is:- 96.14641435353637\n",
      "/n\n",
      "At random state 6 the testing accurancy is:- 89.48680516799776\n",
      "/n\n",
      "At random state 7 the testing accurancy is:- 94.72388846069353\n",
      "/n\n",
      "At random state 8 the testing accurancy is:- 92.62454053784256\n",
      "/n\n",
      "At random state 9 the testing accurancy is:- 94.79388098700522\n",
      "/n\n",
      "At random state 10 the testing accurancy is:- 95.60192170222828\n",
      "/n\n",
      "At random state 11 the testing accurancy is:- 95.93715088400289\n",
      "/n\n",
      "At random state 12 the testing accurancy is:- 96.09374696463081\n",
      "/n\n",
      "At random state 13 the testing accurancy is:- 96.945452739366\n",
      "/n\n",
      "At random state 14 the testing accurancy is:- 94.93194990250377\n",
      "/n\n",
      "At random state 15 the testing accurancy is:- 97.02479303985466\n",
      "/n\n",
      "At random state 16 the testing accurancy is:- 95.19169299278727\n",
      "/n\n",
      "At random state 17 the testing accurancy is:- 96.42919849265738\n",
      "/n\n",
      "At random state 18 the testing accurancy is:- 94.14266394609471\n",
      "/n\n",
      "At random state 19 the testing accurancy is:- 93.57866990761116\n",
      "/n\n",
      "At random state 20 the testing accurancy is:- 92.96709642835432\n",
      "/n\n",
      "At random state 21 the testing accurancy is:- 93.4135732706438\n",
      "/n\n",
      "At random state 22 the testing accurancy is:- 94.04984743623298\n",
      "/n\n",
      "At random state 23 the testing accurancy is:- 96.45760441617057\n",
      "/n\n",
      "At random state 24 the testing accurancy is:- 93.60208345304842\n",
      "/n\n",
      "At random state 25 the testing accurancy is:- 95.44390966805626\n",
      "/n\n",
      "At random state 26 the testing accurancy is:- 88.22164519241235\n",
      "/n\n",
      "At random state 27 the testing accurancy is:- 95.55046568235086\n",
      "/n\n",
      "At random state 28 the testing accurancy is:- 94.9675101729556\n",
      "/n\n",
      "At random state 29 the testing accurancy is:- 94.79732275930758\n",
      "/n\n",
      "At random state 30 the testing accurancy is:- 92.55656128367724\n",
      "/n\n",
      "At random state 31 the testing accurancy is:- 94.73325123258398\n",
      "/n\n",
      "At random state 32 the testing accurancy is:- 92.45421486670212\n",
      "/n\n",
      "At random state 33 the testing accurancy is:- 96.3958139953975\n",
      "/n\n",
      "At random state 34 the testing accurancy is:- 97.06692513880105\n",
      "/n\n",
      "At random state 35 the testing accurancy is:- 95.4820655598142\n",
      "/n\n",
      "At random state 36 the testing accurancy is:- 96.53609646384679\n",
      "/n\n",
      "At random state 37 the testing accurancy is:- 96.2685527002218\n",
      "/n\n",
      "At random state 38 the testing accurancy is:- 96.5875981312098\n",
      "/n\n",
      "At random state 39 the testing accurancy is:- 95.38877446481675\n",
      "/n\n",
      "At random state 40 the testing accurancy is:- 93.90512191234191\n",
      "/n\n",
      "At random state 41 the testing accurancy is:- 94.1890457053124\n",
      "/n\n",
      "At random state 42 the testing accurancy is:- 94.49207205690891\n",
      "/n\n",
      "At random state 43 the testing accurancy is:- 97.63773851676034\n",
      "/n\n",
      "At random state 44 the testing accurancy is:- 93.56481064529203\n",
      "/n\n",
      "At random state 45 the testing accurancy is:- 95.9223087020535\n",
      "/n\n",
      "At random state 46 the testing accurancy is:- 87.03668909614231\n",
      "/n\n",
      "At random state 47 the testing accurancy is:- 96.6464077825336\n",
      "/n\n",
      "At random state 48 the testing accurancy is:- 96.0043811232234\n",
      "/n\n",
      "At random state 49 the testing accurancy is:- 96.184639783289\n",
      "/n\n",
      "At random state 50 the testing accurancy is:- 94.99925375099866\n",
      "/n\n",
      "At random state 51 the testing accurancy is:- 95.57480588759778\n",
      "/n\n",
      "At random state 52 the testing accurancy is:- 97.10670123429146\n",
      "/n\n",
      "At random state 53 the testing accurancy is:- 92.94583609782777\n",
      "/n\n",
      "At random state 54 the testing accurancy is:- 96.58461506044925\n",
      "/n\n",
      "At random state 55 the testing accurancy is:- 93.28679133250391\n",
      "/n\n",
      "At random state 56 the testing accurancy is:- 94.66251280634022\n",
      "/n\n",
      "At random state 57 the testing accurancy is:- 95.35796192423531\n",
      "/n\n",
      "At random state 58 the testing accurancy is:- 94.93868212555192\n",
      "/n\n",
      "At random state 59 the testing accurancy is:- 94.24188176147446\n",
      "/n\n",
      "At random state 60 the testing accurancy is:- 89.60975803642197\n",
      "/n\n",
      "At random state 61 the testing accurancy is:- 89.87080984183513\n",
      "/n\n",
      "At random state 62 the testing accurancy is:- 94.23000345461402\n",
      "/n\n",
      "At random state 63 the testing accurancy is:- 94.44180098369358\n",
      "/n\n",
      "At random state 64 the testing accurancy is:- 94.38274942119739\n",
      "/n\n",
      "At random state 65 the testing accurancy is:- 94.10225847897091\n",
      "/n\n",
      "At random state 66 the testing accurancy is:- 95.57887969233505\n",
      "/n\n",
      "At random state 67 the testing accurancy is:- 94.8417626251223\n",
      "/n\n",
      "At random state 68 the testing accurancy is:- 96.25251495036979\n",
      "/n\n",
      "At random state 69 the testing accurancy is:- 95.71997378619159\n",
      "/n\n",
      "At random state 70 the testing accurancy is:- 95.57306849045399\n",
      "/n\n",
      "At random state 71 the testing accurancy is:- 96.61746837679063\n",
      "/n\n",
      "At random state 72 the testing accurancy is:- 95.30979067086015\n",
      "/n\n",
      "At random state 73 the testing accurancy is:- 91.22250275017089\n",
      "/n\n",
      "At random state 74 the testing accurancy is:- 95.30121622749164\n",
      "/n\n",
      "At random state 75 the testing accurancy is:- 97.48153066969297\n",
      "/n\n",
      "At random state 76 the testing accurancy is:- 92.89762579206625\n",
      "/n\n",
      "At random state 77 the testing accurancy is:- 96.32325489080861\n",
      "/n\n",
      "At random state 78 the testing accurancy is:- 91.10655933580495\n",
      "/n\n",
      "At random state 79 the testing accurancy is:- 95.53212290794627\n",
      "/n\n",
      "At random state 80 the testing accurancy is:- 96.07006347727767\n",
      "/n\n",
      "At random state 81 the testing accurancy is:- 93.45103137381922\n",
      "/n\n",
      "At random state 82 the testing accurancy is:- 89.50897922823442\n",
      "/n\n",
      "At random state 83 the testing accurancy is:- 97.15930779997454\n",
      "/n\n",
      "At random state 84 the testing accurancy is:- 95.44858679538855\n",
      "/n\n",
      "At random state 85 the testing accurancy is:- 94.21158512348045\n",
      "/n\n",
      "At random state 86 the testing accurancy is:- 94.65190824932549\n",
      "/n\n",
      "At random state 87 the testing accurancy is:- 92.60984630512917\n",
      "/n\n",
      "At random state 88 the testing accurancy is:- 96.84622153623175\n",
      "/n\n",
      "At random state 89 the testing accurancy is:- 96.5108697464501\n",
      "/n\n",
      "At random state 90 the testing accurancy is:- 90.91745610330055\n",
      "/n\n",
      "At random state 91 the testing accurancy is:- 96.21518816734638\n",
      "/n\n",
      "At random state 92 the testing accurancy is:- 96.55833837029793\n",
      "/n\n",
      "At random state 93 the testing accurancy is:- 90.02238296566358\n",
      "/n\n",
      "At random state 94 the testing accurancy is:- 93.66644077163987\n",
      "/n\n",
      "At random state 95 the testing accurancy is:- 94.25996061044398\n",
      "/n\n",
      "At random state 96 the testing accurancy is:- 95.1745417626234\n",
      "/n\n",
      "At random state 97 the testing accurancy is:- 95.686924309345\n",
      "/n\n",
      "At random state 98 the testing accurancy is:- 96.95894798561298\n",
      "/n\n",
      "At random state 99 the testing accurancy is:- 95.71664306529193\n",
      "/n\n"
     ]
    }
   ],
   "source": [
    "for i in range (0,100):\n",
    "    X_train,X_test,y_train,y_test=train_test_split(X_Scaled,Y,test_size=0.20,random_state=i)\n",
    "    DT.fit(X_train,y_train)\n",
    "    pred_test=DT.predict(X_test)\n",
    "    print('At random state',i,'the testing accurancy is:-',r2_score(y_test,pred_test)*100)\n",
    "    print(\"/n\")"
   ]
  },
  {
   "cell_type": "code",
   "execution_count": 78,
   "id": "3a291c67",
   "metadata": {},
   "outputs": [],
   "source": [
    "#At random state 75 the testing accurancy is:- 97.48%"
   ]
  },
  {
   "cell_type": "code",
   "execution_count": 79,
   "id": "653fafbf",
   "metadata": {},
   "outputs": [],
   "source": [
    "X_train,X_test,y_train,y_test=train_test_split(X_Scaled,Y,test_size=0.20,random_state=75)\n",
    "DT.fit(X_train,y_train)\n",
    "pred_test=DT.predict(X_test)"
   ]
  },
  {
   "cell_type": "code",
   "execution_count": 81,
   "id": "9f9cc60f",
   "metadata": {},
   "outputs": [
    {
     "data": {
      "text/plain": [
       "97.42289963766466"
      ]
     },
     "execution_count": 81,
     "metadata": {},
     "output_type": "execute_result"
    }
   ],
   "source": [
    "DT_Score=r2_score(y_test,pred_test)*100\n",
    "DT_Score"
   ]
  },
  {
   "cell_type": "markdown",
   "id": "f349b3c6",
   "metadata": {},
   "source": [
    "# Cross Validation for LR"
   ]
  },
  {
   "cell_type": "code",
   "execution_count": 82,
   "id": "3d727600",
   "metadata": {},
   "outputs": [
    {
     "name": "stdout",
     "output_type": "stream",
     "text": [
      "The cross validation score for 2 is 0.8917673193313229\n",
      "The cross validation score for 3 is 0.8915466333254125\n",
      "The cross validation score for 4 is 0.890426357602035\n",
      "The cross validation score for 5 is 0.887392751737931\n",
      "The cross validation score for 6 is 0.8900435833286794\n",
      "The cross validation score for 7 is 0.8862315547791276\n",
      "The cross validation score for 8 is 0.882694543986398\n",
      "The cross validation score for 9 is 0.8824803701418551\n"
     ]
    }
   ],
   "source": [
    "for i in range(2,10):\n",
    "    LR_Val=cross_val_score(LR,X,Y,cv=i)\n",
    "    print(\"The cross validation score for\",i,\"is\",LR_Val.mean())"
   ]
  },
  {
   "cell_type": "markdown",
   "id": "c13b1b20",
   "metadata": {},
   "source": [
    "# Cross Validation for RF"
   ]
  },
  {
   "cell_type": "code",
   "execution_count": 86,
   "id": "d8769039",
   "metadata": {},
   "outputs": [
    {
     "name": "stdout",
     "output_type": "stream",
     "text": [
      "The cross validation score for 2 is 97.01448489182818\n",
      "The cross validation score for 3 is 97.42716679444975\n",
      "The cross validation score for 4 is 97.64915160489609\n",
      "The cross validation score for 5 is 97.57434032116365\n",
      "The cross validation score for 6 is 97.8754861790454\n",
      "The cross validation score for 7 is 97.56737421973355\n",
      "The cross validation score for 8 is 97.72077669449212\n",
      "The cross validation score for 9 is 97.53384157486268\n"
     ]
    }
   ],
   "source": [
    "for i in range(2,10):\n",
    "    RF_Val=cross_val_score(RF,X,Y,cv=i)\n",
    "    print(\"The cross validation score for\",i,\"is\",RF_Val.mean()*100)"
   ]
  },
  {
   "cell_type": "markdown",
   "id": "f3bda612",
   "metadata": {},
   "source": [
    "# Cross Validation for GB"
   ]
  },
  {
   "cell_type": "code",
   "execution_count": 85,
   "id": "f9e15eab",
   "metadata": {},
   "outputs": [
    {
     "name": "stdout",
     "output_type": "stream",
     "text": [
      "The cross validation score for 2 is 97.37631069468556\n",
      "The cross validation score for 3 is 97.83047520326372\n",
      "The cross validation score for 4 is 97.93344890562233\n",
      "The cross validation score for 5 is 97.76234646133611\n",
      "The cross validation score for 6 is 97.79533141076858\n",
      "The cross validation score for 7 is 97.63227527224804\n",
      "The cross validation score for 8 is 97.94237494038084\n",
      "The cross validation score for 9 is 97.63293340721584\n"
     ]
    }
   ],
   "source": [
    "for i in range(2,10):\n",
    "    GB_Val=cross_val_score(GB,X,Y,cv=i)\n",
    "    print(\"The cross validation score for\",i,\"is\",GB_Val.mean()*100)"
   ]
  },
  {
   "cell_type": "markdown",
   "id": "5c858c33",
   "metadata": {},
   "source": [
    "# Cross Validation for DT"
   ]
  },
  {
   "cell_type": "code",
   "execution_count": 87,
   "id": "596b0f1f",
   "metadata": {},
   "outputs": [
    {
     "name": "stdout",
     "output_type": "stream",
     "text": [
      "The cross validation score for 2 is 93.18777450076963\n",
      "The cross validation score for 3 is 95.31320637377367\n",
      "The cross validation score for 4 is 94.4820183709656\n",
      "The cross validation score for 5 is 95.16675315846022\n",
      "The cross validation score for 6 is 95.44930435079411\n",
      "The cross validation score for 7 is 95.20512730098453\n",
      "The cross validation score for 8 is 94.64376869127507\n",
      "The cross validation score for 9 is 94.73771857195918\n"
     ]
    }
   ],
   "source": [
    "for i in range(2,10):\n",
    "    DT_Val=cross_val_score(DT,X,Y,cv=i)\n",
    "    print(\"The cross validation score for\",i,\"is\",DT_Val.mean()*100)"
   ]
  },
  {
   "cell_type": "markdown",
   "id": "c5057023",
   "metadata": {},
   "source": [
    "### By observing the cross validation and testing score, it can be said that Gradient Boost gives the highest score \n",
    "### The cross validation is highest as compared to rest of the models and is nearer to the r2 score\n"
   ]
  },
  {
   "cell_type": "markdown",
   "id": "a18ec500",
   "metadata": {},
   "source": [
    "# Hyper parameter tuning"
   ]
  },
  {
   "cell_type": "code",
   "execution_count": 89,
   "id": "4268816f",
   "metadata": {},
   "outputs": [],
   "source": [
    "GB=GradientBoostingRegressor()"
   ]
  },
  {
   "cell_type": "code",
   "execution_count": 103,
   "id": "d9b5c22a",
   "metadata": {},
   "outputs": [
    {
     "data": {
      "text/plain": [
       "GridSearchCV(estimator=GradientBoostingRegressor(),\n",
       "             param_grid={'criterion': ['friedman_mse', 'mse', 'mae'],\n",
       "                         'learning_rate': [0.0001, 0.001, 0.01, 0.1, 1],\n",
       "                         'min_samples_leaf': [1, 2, 3],\n",
       "                         'min_samples_split': [3, 4]})"
      ]
     },
     "execution_count": 103,
     "metadata": {},
     "output_type": "execute_result"
    }
   ],
   "source": [
    "Parameters={'learning_rate':[0.0001,.001,.01,.1,1],'criterion':['friedman_mse', 'mse', 'mae'],'min_samples_split':[3,4],'min_samples_leaf':[1,2,3]}\n",
    "clf=GridSearchCV(GB,Parameters)\n",
    "clf.fit(X_train,y_train)"
   ]
  },
  {
   "cell_type": "code",
   "execution_count": 104,
   "id": "b96688a5",
   "metadata": {},
   "outputs": [
    {
     "data": {
      "text/plain": [
       "{'criterion': 'friedman_mse',\n",
       " 'learning_rate': 0.1,\n",
       " 'min_samples_leaf': 3,\n",
       " 'min_samples_split': 3}"
      ]
     },
     "execution_count": 104,
     "metadata": {},
     "output_type": "execute_result"
    }
   ],
   "source": [
    "clf.best_params_ #taking the best parameters"
   ]
  },
  {
   "cell_type": "code",
   "execution_count": 105,
   "id": "36bed309",
   "metadata": {},
   "outputs": [
    {
     "data": {
      "text/plain": [
       "GradientBoostingRegressor(min_samples_leaf=3, min_samples_split=3)"
      ]
     },
     "execution_count": 105,
     "metadata": {},
     "output_type": "execute_result"
    }
   ],
   "source": [
    "clf.best_estimator_"
   ]
  },
  {
   "cell_type": "code",
   "execution_count": 106,
   "id": "dffc8a1f",
   "metadata": {},
   "outputs": [],
   "source": [
    "GB_Tuning=clf.best_estimator_.predict(X_test)  #predicting with the best parameters"
   ]
  },
  {
   "cell_type": "code",
   "execution_count": 108,
   "id": "a27dc0eb",
   "metadata": {},
   "outputs": [
    {
     "data": {
      "text/plain": [
       "0.990627691819317"
      ]
     },
     "execution_count": 108,
     "metadata": {},
     "output_type": "execute_result"
    }
   ],
   "source": [
    "GB_Tuning_Score=r2_score(y_test,GB_Tuning)\n",
    "GB_Tuning_Score"
   ]
  },
  {
   "cell_type": "code",
   "execution_count": 118,
   "id": "11fd575c",
   "metadata": {},
   "outputs": [],
   "source": [
    "# It seems that our score reduced"
   ]
  },
  {
   "cell_type": "markdown",
   "id": "34a526b1",
   "metadata": {},
   "source": [
    "### Taking few more parameters and tweaking it a bit"
   ]
  },
  {
   "cell_type": "code",
   "execution_count": 119,
   "id": "31f11224",
   "metadata": {},
   "outputs": [],
   "source": [
    "GB=GradientBoostingRegressor(criterion='mse',min_samples_leaf=2, min_samples_split=3) #random parameters"
   ]
  },
  {
   "cell_type": "code",
   "execution_count": 120,
   "id": "d1e63b5d",
   "metadata": {},
   "outputs": [
    {
     "data": {
      "text/plain": [
       "GradientBoostingRegressor(criterion='mse', min_samples_leaf=2,\n",
       "                          min_samples_split=3)"
      ]
     },
     "execution_count": 120,
     "metadata": {},
     "output_type": "execute_result"
    }
   ],
   "source": [
    "GB.fit(X_train,y_train) #training the model"
   ]
  },
  {
   "cell_type": "code",
   "execution_count": 122,
   "id": "a055784c",
   "metadata": {},
   "outputs": [],
   "source": [
    "pred_Y=GB.predict(X_test) #Predicting the data with the new parameters"
   ]
  },
  {
   "cell_type": "code",
   "execution_count": 123,
   "id": "2ef73bd3",
   "metadata": {},
   "outputs": [],
   "source": [
    "GB_Score=r2_score(y_test,pred_Y)*100 #finding the score"
   ]
  },
  {
   "cell_type": "code",
   "execution_count": 117,
   "id": "f9306b11",
   "metadata": {},
   "outputs": [
    {
     "data": {
      "text/plain": [
       "99.1032934354619"
      ]
     },
     "execution_count": 117,
     "metadata": {},
     "output_type": "execute_result"
    }
   ],
   "source": [
    "GB_Score"
   ]
  },
  {
   "cell_type": "code",
   "execution_count": 124,
   "id": "f1900366",
   "metadata": {},
   "outputs": [],
   "source": [
    "#Score increased"
   ]
  },
  {
   "cell_type": "markdown",
   "id": "3d3becf1",
   "metadata": {},
   "source": [
    "# Saving the model"
   ]
  },
  {
   "cell_type": "code",
   "execution_count": 125,
   "id": "c6afee1a",
   "metadata": {},
   "outputs": [],
   "source": [
    "import pickle\n",
    "filename='Advertisement.pkl'\n",
    "pickle.dump(GB,open(filename,'wb')) ##saving the model"
   ]
  },
  {
   "cell_type": "code",
   "execution_count": null,
   "id": "49abb5b1",
   "metadata": {},
   "outputs": [],
   "source": []
  }
 ],
 "metadata": {
  "kernelspec": {
   "display_name": "Python 3 (ipykernel)",
   "language": "python",
   "name": "python3"
  },
  "language_info": {
   "codemirror_mode": {
    "name": "ipython",
    "version": 3
   },
   "file_extension": ".py",
   "mimetype": "text/x-python",
   "name": "python",
   "nbconvert_exporter": "python",
   "pygments_lexer": "ipython3",
   "version": "3.9.7"
  }
 },
 "nbformat": 4,
 "nbformat_minor": 5
}
